{
 "cells": [
  {
   "cell_type": "code",
   "execution_count": 1,
   "metadata": {},
   "outputs": [],
   "source": [
    "#dependencies\n",
    "\n",
    "import matplotlib.pyplot as plt\n",
    "import pandas as pd\n",
    "import datetime as dt\n",
    "import plotly.express as px\n",
    "import plotly.graph_objects as go"
   ]
  },
  {
   "cell_type": "code",
   "execution_count": 2,
   "metadata": {},
   "outputs": [
    {
     "data": {
      "text/html": [
       "<div>\n",
       "<style scoped>\n",
       "    .dataframe tbody tr th:only-of-type {\n",
       "        vertical-align: middle;\n",
       "    }\n",
       "\n",
       "    .dataframe tbody tr th {\n",
       "        vertical-align: top;\n",
       "    }\n",
       "\n",
       "    .dataframe thead th {\n",
       "        text-align: right;\n",
       "    }\n",
       "</style>\n",
       "<table border=\"1\" class=\"dataframe\">\n",
       "  <thead>\n",
       "    <tr style=\"text-align: right;\">\n",
       "      <th></th>\n",
       "      <th>date</th>\n",
       "      <th>state</th>\n",
       "      <th>positive</th>\n",
       "      <th>negative</th>\n",
       "      <th>pending</th>\n",
       "      <th>hospitalizedCurrently</th>\n",
       "      <th>hospitalizedCumulative</th>\n",
       "      <th>inIcuCurrently</th>\n",
       "      <th>inIcuCumulative</th>\n",
       "      <th>onVentilatorCurrently</th>\n",
       "      <th>...</th>\n",
       "      <th>posNeg</th>\n",
       "      <th>deathIncrease</th>\n",
       "      <th>hospitalizedIncrease</th>\n",
       "      <th>hash</th>\n",
       "      <th>commercialScore</th>\n",
       "      <th>negativeRegularScore</th>\n",
       "      <th>negativeScore</th>\n",
       "      <th>positiveScore</th>\n",
       "      <th>score</th>\n",
       "      <th>grade</th>\n",
       "    </tr>\n",
       "  </thead>\n",
       "  <tbody>\n",
       "    <tr>\n",
       "      <th>0</th>\n",
       "      <td>20200829</td>\n",
       "      <td>AK</td>\n",
       "      <td>6035.0</td>\n",
       "      <td>339660.0</td>\n",
       "      <td>NaN</td>\n",
       "      <td>43.0</td>\n",
       "      <td>NaN</td>\n",
       "      <td>NaN</td>\n",
       "      <td>NaN</td>\n",
       "      <td>7.0</td>\n",
       "      <td>...</td>\n",
       "      <td>345695</td>\n",
       "      <td>0</td>\n",
       "      <td>0</td>\n",
       "      <td>d14280fc719ed7f9365e0e046b0ac9ffd9a0b06b</td>\n",
       "      <td>0</td>\n",
       "      <td>0</td>\n",
       "      <td>0</td>\n",
       "      <td>0</td>\n",
       "      <td>0</td>\n",
       "      <td>NaN</td>\n",
       "    </tr>\n",
       "    <tr>\n",
       "      <th>1</th>\n",
       "      <td>20200829</td>\n",
       "      <td>AL</td>\n",
       "      <td>123889.0</td>\n",
       "      <td>851929.0</td>\n",
       "      <td>NaN</td>\n",
       "      <td>986.0</td>\n",
       "      <td>14267.0</td>\n",
       "      <td>NaN</td>\n",
       "      <td>1459.0</td>\n",
       "      <td>NaN</td>\n",
       "      <td>...</td>\n",
       "      <td>975818</td>\n",
       "      <td>45</td>\n",
       "      <td>0</td>\n",
       "      <td>668b17e7da32941aa4a95ef2775527e9e7d5d7a7</td>\n",
       "      <td>0</td>\n",
       "      <td>0</td>\n",
       "      <td>0</td>\n",
       "      <td>0</td>\n",
       "      <td>0</td>\n",
       "      <td>NaN</td>\n",
       "    </tr>\n",
       "    <tr>\n",
       "      <th>2</th>\n",
       "      <td>20200829</td>\n",
       "      <td>AR</td>\n",
       "      <td>60378.0</td>\n",
       "      <td>646592.0</td>\n",
       "      <td>NaN</td>\n",
       "      <td>407.0</td>\n",
       "      <td>4142.0</td>\n",
       "      <td>NaN</td>\n",
       "      <td>NaN</td>\n",
       "      <td>95.0</td>\n",
       "      <td>...</td>\n",
       "      <td>706970</td>\n",
       "      <td>16</td>\n",
       "      <td>0</td>\n",
       "      <td>19baf0f83cf44094d1194521bfebecbcdeaf6961</td>\n",
       "      <td>0</td>\n",
       "      <td>0</td>\n",
       "      <td>0</td>\n",
       "      <td>0</td>\n",
       "      <td>0</td>\n",
       "      <td>NaN</td>\n",
       "    </tr>\n",
       "    <tr>\n",
       "      <th>3</th>\n",
       "      <td>20200829</td>\n",
       "      <td>AS</td>\n",
       "      <td>0.0</td>\n",
       "      <td>1514.0</td>\n",
       "      <td>NaN</td>\n",
       "      <td>NaN</td>\n",
       "      <td>NaN</td>\n",
       "      <td>NaN</td>\n",
       "      <td>NaN</td>\n",
       "      <td>NaN</td>\n",
       "      <td>...</td>\n",
       "      <td>1514</td>\n",
       "      <td>0</td>\n",
       "      <td>0</td>\n",
       "      <td>e063eb477b842be4d1532f74fc5371dd23ec577d</td>\n",
       "      <td>0</td>\n",
       "      <td>0</td>\n",
       "      <td>0</td>\n",
       "      <td>0</td>\n",
       "      <td>0</td>\n",
       "      <td>NaN</td>\n",
       "    </tr>\n",
       "    <tr>\n",
       "      <th>4</th>\n",
       "      <td>20200829</td>\n",
       "      <td>AZ</td>\n",
       "      <td>201287.0</td>\n",
       "      <td>991089.0</td>\n",
       "      <td>NaN</td>\n",
       "      <td>812.0</td>\n",
       "      <td>21433.0</td>\n",
       "      <td>262.0</td>\n",
       "      <td>NaN</td>\n",
       "      <td>164.0</td>\n",
       "      <td>...</td>\n",
       "      <td>1192376</td>\n",
       "      <td>29</td>\n",
       "      <td>5</td>\n",
       "      <td>d6aca9f355470d3f2ed666030c62bc76e880d557</td>\n",
       "      <td>0</td>\n",
       "      <td>0</td>\n",
       "      <td>0</td>\n",
       "      <td>0</td>\n",
       "      <td>0</td>\n",
       "      <td>NaN</td>\n",
       "    </tr>\n",
       "  </tbody>\n",
       "</table>\n",
       "<p>5 rows × 54 columns</p>\n",
       "</div>"
      ],
      "text/plain": [
       "       date state  positive  negative  pending  hospitalizedCurrently  \\\n",
       "0  20200829    AK    6035.0  339660.0      NaN                   43.0   \n",
       "1  20200829    AL  123889.0  851929.0      NaN                  986.0   \n",
       "2  20200829    AR   60378.0  646592.0      NaN                  407.0   \n",
       "3  20200829    AS       0.0    1514.0      NaN                    NaN   \n",
       "4  20200829    AZ  201287.0  991089.0      NaN                  812.0   \n",
       "\n",
       "   hospitalizedCumulative  inIcuCurrently  inIcuCumulative  \\\n",
       "0                     NaN             NaN              NaN   \n",
       "1                 14267.0             NaN           1459.0   \n",
       "2                  4142.0             NaN              NaN   \n",
       "3                     NaN             NaN              NaN   \n",
       "4                 21433.0           262.0              NaN   \n",
       "\n",
       "   onVentilatorCurrently  ...   posNeg  deathIncrease hospitalizedIncrease  \\\n",
       "0                    7.0  ...   345695              0                    0   \n",
       "1                    NaN  ...   975818             45                    0   \n",
       "2                   95.0  ...   706970             16                    0   \n",
       "3                    NaN  ...     1514              0                    0   \n",
       "4                  164.0  ...  1192376             29                    5   \n",
       "\n",
       "                                       hash commercialScore  \\\n",
       "0  d14280fc719ed7f9365e0e046b0ac9ffd9a0b06b               0   \n",
       "1  668b17e7da32941aa4a95ef2775527e9e7d5d7a7               0   \n",
       "2  19baf0f83cf44094d1194521bfebecbcdeaf6961               0   \n",
       "3  e063eb477b842be4d1532f74fc5371dd23ec577d               0   \n",
       "4  d6aca9f355470d3f2ed666030c62bc76e880d557               0   \n",
       "\n",
       "  negativeRegularScore  negativeScore  positiveScore score  grade  \n",
       "0                    0              0              0     0    NaN  \n",
       "1                    0              0              0     0    NaN  \n",
       "2                    0              0              0     0    NaN  \n",
       "3                    0              0              0     0    NaN  \n",
       "4                    0              0              0     0    NaN  \n",
       "\n",
       "[5 rows x 54 columns]"
      ]
     },
     "execution_count": 2,
     "metadata": {},
     "output_type": "execute_result"
    }
   ],
   "source": [
    "#read csv, push to dataframe\n",
    "\n",
    "us_df = pd.read_csv (\"data/state_daily_cases.csv\")\n",
    "us_df.head()"
   ]
  },
  {
   "cell_type": "code",
   "execution_count": 3,
   "metadata": {},
   "outputs": [
    {
     "data": {
      "text/html": [
       "<div>\n",
       "<style scoped>\n",
       "    .dataframe tbody tr th:only-of-type {\n",
       "        vertical-align: middle;\n",
       "    }\n",
       "\n",
       "    .dataframe tbody tr th {\n",
       "        vertical-align: top;\n",
       "    }\n",
       "\n",
       "    .dataframe thead th {\n",
       "        text-align: right;\n",
       "    }\n",
       "</style>\n",
       "<table border=\"1\" class=\"dataframe\">\n",
       "  <thead>\n",
       "    <tr style=\"text-align: right;\">\n",
       "      <th></th>\n",
       "      <th>date</th>\n",
       "      <th>state</th>\n",
       "      <th>positive</th>\n",
       "      <th>hospitalizedCurrently</th>\n",
       "      <th>hospitalizedCumulative</th>\n",
       "      <th>inIcuCumulative</th>\n",
       "    </tr>\n",
       "  </thead>\n",
       "  <tbody>\n",
       "    <tr>\n",
       "      <th>0</th>\n",
       "      <td>20200829</td>\n",
       "      <td>GA</td>\n",
       "      <td>267758.0</td>\n",
       "      <td>2582.0</td>\n",
       "      <td>24533.0</td>\n",
       "      <td>4479.0</td>\n",
       "    </tr>\n",
       "    <tr>\n",
       "      <th>1</th>\n",
       "      <td>20200828</td>\n",
       "      <td>GA</td>\n",
       "      <td>265372.0</td>\n",
       "      <td>2648.0</td>\n",
       "      <td>24335.0</td>\n",
       "      <td>4433.0</td>\n",
       "    </tr>\n",
       "    <tr>\n",
       "      <th>2</th>\n",
       "      <td>20200827</td>\n",
       "      <td>GA</td>\n",
       "      <td>263074.0</td>\n",
       "      <td>2129.0</td>\n",
       "      <td>24127.0</td>\n",
       "      <td>4397.0</td>\n",
       "    </tr>\n",
       "    <tr>\n",
       "      <th>3</th>\n",
       "      <td>20200826</td>\n",
       "      <td>GA</td>\n",
       "      <td>260590.0</td>\n",
       "      <td>2227.0</td>\n",
       "      <td>23939.0</td>\n",
       "      <td>4360.0</td>\n",
       "    </tr>\n",
       "    <tr>\n",
       "      <th>4</th>\n",
       "      <td>20200825</td>\n",
       "      <td>GA</td>\n",
       "      <td>258354.0</td>\n",
       "      <td>2260.0</td>\n",
       "      <td>23717.0</td>\n",
       "      <td>4322.0</td>\n",
       "    </tr>\n",
       "    <tr>\n",
       "      <th>...</th>\n",
       "      <td>...</td>\n",
       "      <td>...</td>\n",
       "      <td>...</td>\n",
       "      <td>...</td>\n",
       "      <td>...</td>\n",
       "      <td>...</td>\n",
       "    </tr>\n",
       "    <tr>\n",
       "      <th>174</th>\n",
       "      <td>20200308</td>\n",
       "      <td>GA</td>\n",
       "      <td>7.0</td>\n",
       "      <td>NaN</td>\n",
       "      <td>NaN</td>\n",
       "      <td>NaN</td>\n",
       "    </tr>\n",
       "    <tr>\n",
       "      <th>175</th>\n",
       "      <td>20200307</td>\n",
       "      <td>GA</td>\n",
       "      <td>6.0</td>\n",
       "      <td>NaN</td>\n",
       "      <td>NaN</td>\n",
       "      <td>NaN</td>\n",
       "    </tr>\n",
       "    <tr>\n",
       "      <th>176</th>\n",
       "      <td>20200306</td>\n",
       "      <td>GA</td>\n",
       "      <td>2.0</td>\n",
       "      <td>NaN</td>\n",
       "      <td>NaN</td>\n",
       "      <td>NaN</td>\n",
       "    </tr>\n",
       "    <tr>\n",
       "      <th>177</th>\n",
       "      <td>20200305</td>\n",
       "      <td>GA</td>\n",
       "      <td>2.0</td>\n",
       "      <td>NaN</td>\n",
       "      <td>NaN</td>\n",
       "      <td>NaN</td>\n",
       "    </tr>\n",
       "    <tr>\n",
       "      <th>178</th>\n",
       "      <td>20200304</td>\n",
       "      <td>GA</td>\n",
       "      <td>2.0</td>\n",
       "      <td>NaN</td>\n",
       "      <td>NaN</td>\n",
       "      <td>NaN</td>\n",
       "    </tr>\n",
       "  </tbody>\n",
       "</table>\n",
       "<p>179 rows × 6 columns</p>\n",
       "</div>"
      ],
      "text/plain": [
       "         date state  positive  hospitalizedCurrently  hospitalizedCumulative  \\\n",
       "0    20200829    GA  267758.0                 2582.0                 24533.0   \n",
       "1    20200828    GA  265372.0                 2648.0                 24335.0   \n",
       "2    20200827    GA  263074.0                 2129.0                 24127.0   \n",
       "3    20200826    GA  260590.0                 2227.0                 23939.0   \n",
       "4    20200825    GA  258354.0                 2260.0                 23717.0   \n",
       "..        ...   ...       ...                    ...                     ...   \n",
       "174  20200308    GA       7.0                    NaN                     NaN   \n",
       "175  20200307    GA       6.0                    NaN                     NaN   \n",
       "176  20200306    GA       2.0                    NaN                     NaN   \n",
       "177  20200305    GA       2.0                    NaN                     NaN   \n",
       "178  20200304    GA       2.0                    NaN                     NaN   \n",
       "\n",
       "     inIcuCumulative  \n",
       "0             4479.0  \n",
       "1             4433.0  \n",
       "2             4397.0  \n",
       "3             4360.0  \n",
       "4             4322.0  \n",
       "..               ...  \n",
       "174              NaN  \n",
       "175              NaN  \n",
       "176              NaN  \n",
       "177              NaN  \n",
       "178              NaN  \n",
       "\n",
       "[179 rows x 6 columns]"
      ]
     },
     "execution_count": 3,
     "metadata": {},
     "output_type": "execute_result"
    }
   ],
   "source": [
    "#isolate data on georgia, remove extraneous columns, reset index\n",
    "\n",
    "ga_df = us_df.loc [us_df['state'] == 'GA', ['date', 'state', 'positive', 'hospitalizedCurrently', 'hospitalizedCumulative', 'inIcuCumulative']]\n",
    "ga_df = ga_df.reset_index (drop = True)\n",
    "\n",
    "ga_df"
   ]
  },
  {
   "cell_type": "code",
   "execution_count": 4,
   "metadata": {},
   "outputs": [
    {
     "data": {
      "text/html": [
       "<div>\n",
       "<style scoped>\n",
       "    .dataframe tbody tr th:only-of-type {\n",
       "        vertical-align: middle;\n",
       "    }\n",
       "\n",
       "    .dataframe tbody tr th {\n",
       "        vertical-align: top;\n",
       "    }\n",
       "\n",
       "    .dataframe thead th {\n",
       "        text-align: right;\n",
       "    }\n",
       "</style>\n",
       "<table border=\"1\" class=\"dataframe\">\n",
       "  <thead>\n",
       "    <tr style=\"text-align: right;\">\n",
       "      <th></th>\n",
       "      <th>date</th>\n",
       "      <th>state</th>\n",
       "      <th>positive</th>\n",
       "      <th>hospitalizedCurrently</th>\n",
       "      <th>hospitalizedCumulative</th>\n",
       "      <th>inIcuCumulative</th>\n",
       "      <th>days_from_start</th>\n",
       "      <th>date_format</th>\n",
       "    </tr>\n",
       "  </thead>\n",
       "  <tbody>\n",
       "    <tr>\n",
       "      <th>0</th>\n",
       "      <td>20200829</td>\n",
       "      <td>GA</td>\n",
       "      <td>267758.0</td>\n",
       "      <td>2582.0</td>\n",
       "      <td>24533.0</td>\n",
       "      <td>4479.0</td>\n",
       "      <td>178</td>\n",
       "      <td>2020-08-29 00:00:00</td>\n",
       "    </tr>\n",
       "    <tr>\n",
       "      <th>1</th>\n",
       "      <td>20200828</td>\n",
       "      <td>GA</td>\n",
       "      <td>265372.0</td>\n",
       "      <td>2648.0</td>\n",
       "      <td>24335.0</td>\n",
       "      <td>4433.0</td>\n",
       "      <td>177</td>\n",
       "      <td>2020-08-28 00:00:00</td>\n",
       "    </tr>\n",
       "    <tr>\n",
       "      <th>2</th>\n",
       "      <td>20200827</td>\n",
       "      <td>GA</td>\n",
       "      <td>263074.0</td>\n",
       "      <td>2129.0</td>\n",
       "      <td>24127.0</td>\n",
       "      <td>4397.0</td>\n",
       "      <td>176</td>\n",
       "      <td>2020-08-27 00:00:00</td>\n",
       "    </tr>\n",
       "    <tr>\n",
       "      <th>3</th>\n",
       "      <td>20200826</td>\n",
       "      <td>GA</td>\n",
       "      <td>260590.0</td>\n",
       "      <td>2227.0</td>\n",
       "      <td>23939.0</td>\n",
       "      <td>4360.0</td>\n",
       "      <td>175</td>\n",
       "      <td>2020-08-26 00:00:00</td>\n",
       "    </tr>\n",
       "    <tr>\n",
       "      <th>4</th>\n",
       "      <td>20200825</td>\n",
       "      <td>GA</td>\n",
       "      <td>258354.0</td>\n",
       "      <td>2260.0</td>\n",
       "      <td>23717.0</td>\n",
       "      <td>4322.0</td>\n",
       "      <td>174</td>\n",
       "      <td>2020-08-25 00:00:00</td>\n",
       "    </tr>\n",
       "    <tr>\n",
       "      <th>...</th>\n",
       "      <td>...</td>\n",
       "      <td>...</td>\n",
       "      <td>...</td>\n",
       "      <td>...</td>\n",
       "      <td>...</td>\n",
       "      <td>...</td>\n",
       "      <td>...</td>\n",
       "      <td>...</td>\n",
       "    </tr>\n",
       "    <tr>\n",
       "      <th>174</th>\n",
       "      <td>20200308</td>\n",
       "      <td>GA</td>\n",
       "      <td>7.0</td>\n",
       "      <td>NaN</td>\n",
       "      <td>NaN</td>\n",
       "      <td>NaN</td>\n",
       "      <td>4</td>\n",
       "      <td>2020-03-08 00:00:00</td>\n",
       "    </tr>\n",
       "    <tr>\n",
       "      <th>175</th>\n",
       "      <td>20200307</td>\n",
       "      <td>GA</td>\n",
       "      <td>6.0</td>\n",
       "      <td>NaN</td>\n",
       "      <td>NaN</td>\n",
       "      <td>NaN</td>\n",
       "      <td>3</td>\n",
       "      <td>2020-03-07 00:00:00</td>\n",
       "    </tr>\n",
       "    <tr>\n",
       "      <th>176</th>\n",
       "      <td>20200306</td>\n",
       "      <td>GA</td>\n",
       "      <td>2.0</td>\n",
       "      <td>NaN</td>\n",
       "      <td>NaN</td>\n",
       "      <td>NaN</td>\n",
       "      <td>2</td>\n",
       "      <td>2020-03-06 00:00:00</td>\n",
       "    </tr>\n",
       "    <tr>\n",
       "      <th>177</th>\n",
       "      <td>20200305</td>\n",
       "      <td>GA</td>\n",
       "      <td>2.0</td>\n",
       "      <td>NaN</td>\n",
       "      <td>NaN</td>\n",
       "      <td>NaN</td>\n",
       "      <td>1</td>\n",
       "      <td>2020-03-05 00:00:00</td>\n",
       "    </tr>\n",
       "    <tr>\n",
       "      <th>178</th>\n",
       "      <td>20200304</td>\n",
       "      <td>GA</td>\n",
       "      <td>2.0</td>\n",
       "      <td>NaN</td>\n",
       "      <td>NaN</td>\n",
       "      <td>NaN</td>\n",
       "      <td>0</td>\n",
       "      <td>2020-03-04 00:00:00</td>\n",
       "    </tr>\n",
       "  </tbody>\n",
       "</table>\n",
       "<p>179 rows × 8 columns</p>\n",
       "</div>"
      ],
      "text/plain": [
       "         date state  positive  hospitalizedCurrently  hospitalizedCumulative  \\\n",
       "0    20200829    GA  267758.0                 2582.0                 24533.0   \n",
       "1    20200828    GA  265372.0                 2648.0                 24335.0   \n",
       "2    20200827    GA  263074.0                 2129.0                 24127.0   \n",
       "3    20200826    GA  260590.0                 2227.0                 23939.0   \n",
       "4    20200825    GA  258354.0                 2260.0                 23717.0   \n",
       "..        ...   ...       ...                    ...                     ...   \n",
       "174  20200308    GA       7.0                    NaN                     NaN   \n",
       "175  20200307    GA       6.0                    NaN                     NaN   \n",
       "176  20200306    GA       2.0                    NaN                     NaN   \n",
       "177  20200305    GA       2.0                    NaN                     NaN   \n",
       "178  20200304    GA       2.0                    NaN                     NaN   \n",
       "\n",
       "     inIcuCumulative days_from_start          date_format  \n",
       "0             4479.0             178  2020-08-29 00:00:00  \n",
       "1             4433.0             177  2020-08-28 00:00:00  \n",
       "2             4397.0             176  2020-08-27 00:00:00  \n",
       "3             4360.0             175  2020-08-26 00:00:00  \n",
       "4             4322.0             174  2020-08-25 00:00:00  \n",
       "..               ...             ...                  ...  \n",
       "174              NaN               4  2020-03-08 00:00:00  \n",
       "175              NaN               3  2020-03-07 00:00:00  \n",
       "176              NaN               2  2020-03-06 00:00:00  \n",
       "177              NaN               1  2020-03-05 00:00:00  \n",
       "178              NaN               0  2020-03-04 00:00:00  \n",
       "\n",
       "[179 rows x 8 columns]"
      ]
     },
     "execution_count": 4,
     "metadata": {},
     "output_type": "execute_result"
    }
   ],
   "source": [
    "#loop through rows, calculate days from start of pandemic in GA, insert into new column\n",
    "\n",
    "ga_df['days_from_start'] = ''\n",
    "ga_df['date_format'] = ''\n",
    "\n",
    "start_day = dt.datetime.strptime (f'{(ga_df.iloc [-1, 0])}', '%Y%m%d')\n",
    "\n",
    "for index, row in ga_df.iterrows():\n",
    "    day_number = (dt.datetime.strptime (f\"{row['date']}\", '%Y%m%d'))\n",
    "    day_delta = (day_number - start_day).days\n",
    "    ga_df.loc [index, 'date_format'] = day_number\n",
    "    ga_df.loc [index, 'days_from_start'] = day_delta\n",
    "    \n",
    "ga_df"
   ]
  },
  {
   "cell_type": "code",
   "execution_count": 5,
   "metadata": {},
   "outputs": [
    {
     "data": {
      "text/html": [
       "<div>\n",
       "<style scoped>\n",
       "    .dataframe tbody tr th:only-of-type {\n",
       "        vertical-align: middle;\n",
       "    }\n",
       "\n",
       "    .dataframe tbody tr th {\n",
       "        vertical-align: top;\n",
       "    }\n",
       "\n",
       "    .dataframe thead th {\n",
       "        text-align: right;\n",
       "    }\n",
       "</style>\n",
       "<table border=\"1\" class=\"dataframe\">\n",
       "  <thead>\n",
       "    <tr style=\"text-align: right;\">\n",
       "      <th></th>\n",
       "      <th>date</th>\n",
       "      <th>state</th>\n",
       "      <th>positive</th>\n",
       "      <th>hospitalizedCurrently</th>\n",
       "      <th>hospitalizedCumulative</th>\n",
       "      <th>inIcuCumulative</th>\n",
       "      <th>days_from_start</th>\n",
       "      <th>date_format</th>\n",
       "      <th>daily_increase</th>\n",
       "    </tr>\n",
       "  </thead>\n",
       "  <tbody>\n",
       "    <tr>\n",
       "      <th>0</th>\n",
       "      <td>20200829</td>\n",
       "      <td>GA</td>\n",
       "      <td>267758.0</td>\n",
       "      <td>2582.0</td>\n",
       "      <td>24533.0</td>\n",
       "      <td>4479.0</td>\n",
       "      <td>178</td>\n",
       "      <td>2020-08-29 00:00:00</td>\n",
       "      <td>2386</td>\n",
       "    </tr>\n",
       "    <tr>\n",
       "      <th>1</th>\n",
       "      <td>20200828</td>\n",
       "      <td>GA</td>\n",
       "      <td>265372.0</td>\n",
       "      <td>2648.0</td>\n",
       "      <td>24335.0</td>\n",
       "      <td>4433.0</td>\n",
       "      <td>177</td>\n",
       "      <td>2020-08-28 00:00:00</td>\n",
       "      <td>2298</td>\n",
       "    </tr>\n",
       "    <tr>\n",
       "      <th>2</th>\n",
       "      <td>20200827</td>\n",
       "      <td>GA</td>\n",
       "      <td>263074.0</td>\n",
       "      <td>2129.0</td>\n",
       "      <td>24127.0</td>\n",
       "      <td>4397.0</td>\n",
       "      <td>176</td>\n",
       "      <td>2020-08-27 00:00:00</td>\n",
       "      <td>2484</td>\n",
       "    </tr>\n",
       "    <tr>\n",
       "      <th>3</th>\n",
       "      <td>20200826</td>\n",
       "      <td>GA</td>\n",
       "      <td>260590.0</td>\n",
       "      <td>2227.0</td>\n",
       "      <td>23939.0</td>\n",
       "      <td>4360.0</td>\n",
       "      <td>175</td>\n",
       "      <td>2020-08-26 00:00:00</td>\n",
       "      <td>2236</td>\n",
       "    </tr>\n",
       "    <tr>\n",
       "      <th>4</th>\n",
       "      <td>20200825</td>\n",
       "      <td>GA</td>\n",
       "      <td>258354.0</td>\n",
       "      <td>2260.0</td>\n",
       "      <td>23717.0</td>\n",
       "      <td>4322.0</td>\n",
       "      <td>174</td>\n",
       "      <td>2020-08-25 00:00:00</td>\n",
       "      <td>2101</td>\n",
       "    </tr>\n",
       "    <tr>\n",
       "      <th>...</th>\n",
       "      <td>...</td>\n",
       "      <td>...</td>\n",
       "      <td>...</td>\n",
       "      <td>...</td>\n",
       "      <td>...</td>\n",
       "      <td>...</td>\n",
       "      <td>...</td>\n",
       "      <td>...</td>\n",
       "      <td>...</td>\n",
       "    </tr>\n",
       "    <tr>\n",
       "      <th>174</th>\n",
       "      <td>20200308</td>\n",
       "      <td>GA</td>\n",
       "      <td>7.0</td>\n",
       "      <td>NaN</td>\n",
       "      <td>NaN</td>\n",
       "      <td>NaN</td>\n",
       "      <td>4</td>\n",
       "      <td>2020-03-08 00:00:00</td>\n",
       "      <td>1</td>\n",
       "    </tr>\n",
       "    <tr>\n",
       "      <th>175</th>\n",
       "      <td>20200307</td>\n",
       "      <td>GA</td>\n",
       "      <td>6.0</td>\n",
       "      <td>NaN</td>\n",
       "      <td>NaN</td>\n",
       "      <td>NaN</td>\n",
       "      <td>3</td>\n",
       "      <td>2020-03-07 00:00:00</td>\n",
       "      <td>4</td>\n",
       "    </tr>\n",
       "    <tr>\n",
       "      <th>176</th>\n",
       "      <td>20200306</td>\n",
       "      <td>GA</td>\n",
       "      <td>2.0</td>\n",
       "      <td>NaN</td>\n",
       "      <td>NaN</td>\n",
       "      <td>NaN</td>\n",
       "      <td>2</td>\n",
       "      <td>2020-03-06 00:00:00</td>\n",
       "      <td>0</td>\n",
       "    </tr>\n",
       "    <tr>\n",
       "      <th>177</th>\n",
       "      <td>20200305</td>\n",
       "      <td>GA</td>\n",
       "      <td>2.0</td>\n",
       "      <td>NaN</td>\n",
       "      <td>NaN</td>\n",
       "      <td>NaN</td>\n",
       "      <td>1</td>\n",
       "      <td>2020-03-05 00:00:00</td>\n",
       "      <td>0</td>\n",
       "    </tr>\n",
       "    <tr>\n",
       "      <th>178</th>\n",
       "      <td>20200304</td>\n",
       "      <td>GA</td>\n",
       "      <td>2.0</td>\n",
       "      <td>NaN</td>\n",
       "      <td>NaN</td>\n",
       "      <td>NaN</td>\n",
       "      <td>0</td>\n",
       "      <td>2020-03-04 00:00:00</td>\n",
       "      <td>2</td>\n",
       "    </tr>\n",
       "  </tbody>\n",
       "</table>\n",
       "<p>179 rows × 9 columns</p>\n",
       "</div>"
      ],
      "text/plain": [
       "         date state  positive  hospitalizedCurrently  hospitalizedCumulative  \\\n",
       "0    20200829    GA  267758.0                 2582.0                 24533.0   \n",
       "1    20200828    GA  265372.0                 2648.0                 24335.0   \n",
       "2    20200827    GA  263074.0                 2129.0                 24127.0   \n",
       "3    20200826    GA  260590.0                 2227.0                 23939.0   \n",
       "4    20200825    GA  258354.0                 2260.0                 23717.0   \n",
       "..        ...   ...       ...                    ...                     ...   \n",
       "174  20200308    GA       7.0                    NaN                     NaN   \n",
       "175  20200307    GA       6.0                    NaN                     NaN   \n",
       "176  20200306    GA       2.0                    NaN                     NaN   \n",
       "177  20200305    GA       2.0                    NaN                     NaN   \n",
       "178  20200304    GA       2.0                    NaN                     NaN   \n",
       "\n",
       "     inIcuCumulative days_from_start          date_format daily_increase  \n",
       "0             4479.0             178  2020-08-29 00:00:00           2386  \n",
       "1             4433.0             177  2020-08-28 00:00:00           2298  \n",
       "2             4397.0             176  2020-08-27 00:00:00           2484  \n",
       "3             4360.0             175  2020-08-26 00:00:00           2236  \n",
       "4             4322.0             174  2020-08-25 00:00:00           2101  \n",
       "..               ...             ...                  ...            ...  \n",
       "174              NaN               4  2020-03-08 00:00:00              1  \n",
       "175              NaN               3  2020-03-07 00:00:00              4  \n",
       "176              NaN               2  2020-03-06 00:00:00              0  \n",
       "177              NaN               1  2020-03-05 00:00:00              0  \n",
       "178              NaN               0  2020-03-04 00:00:00              2  \n",
       "\n",
       "[179 rows x 9 columns]"
      ]
     },
     "execution_count": 5,
     "metadata": {},
     "output_type": "execute_result"
    }
   ],
   "source": [
    "#loop through cases column, calculate daily increase, insert into new column\n",
    "\n",
    "ga_df['daily_increase'] = ''\n",
    "\n",
    "for x in range(len(ga_df['positive'])):\n",
    "    try:\n",
    "        increase = ga_df['positive'][x] - ga_df['positive'][x + 1]\n",
    "    \n",
    "    except:\n",
    "        increase = ga_df['positive'][x] - 0\n",
    "        \n",
    "    ga_df.iloc [x, 8] = increase\n",
    "    \n",
    "ga_df"
   ]
  },
  {
   "cell_type": "code",
   "execution_count": 121,
   "metadata": {},
   "outputs": [
    {
     "data": {
      "text/html": [
       "<div>\n",
       "<style scoped>\n",
       "    .dataframe tbody tr th:only-of-type {\n",
       "        vertical-align: middle;\n",
       "    }\n",
       "\n",
       "    .dataframe tbody tr th {\n",
       "        vertical-align: top;\n",
       "    }\n",
       "\n",
       "    .dataframe thead th {\n",
       "        text-align: right;\n",
       "    }\n",
       "</style>\n",
       "<table border=\"1\" class=\"dataframe\">\n",
       "  <thead>\n",
       "    <tr style=\"text-align: right;\">\n",
       "      <th></th>\n",
       "      <th>date</th>\n",
       "      <th>state</th>\n",
       "      <th>positive</th>\n",
       "      <th>hospitalizedCurrently</th>\n",
       "      <th>hospitalizedCumulative</th>\n",
       "      <th>inIcuCumulative</th>\n",
       "      <th>days_from_start</th>\n",
       "      <th>date_format</th>\n",
       "      <th>daily_increase</th>\n",
       "      <th>7d_avg_increase</th>\n",
       "    </tr>\n",
       "  </thead>\n",
       "  <tbody>\n",
       "    <tr>\n",
       "      <th>0</th>\n",
       "      <td>20200829</td>\n",
       "      <td>GA</td>\n",
       "      <td>267758.0</td>\n",
       "      <td>2582.0</td>\n",
       "      <td>24533.0</td>\n",
       "      <td>4479.0</td>\n",
       "      <td>178</td>\n",
       "      <td>2020-08-29 00:00:00</td>\n",
       "      <td>2386</td>\n",
       "      <td>2219.4</td>\n",
       "    </tr>\n",
       "    <tr>\n",
       "      <th>1</th>\n",
       "      <td>20200828</td>\n",
       "      <td>GA</td>\n",
       "      <td>265372.0</td>\n",
       "      <td>2648.0</td>\n",
       "      <td>24335.0</td>\n",
       "      <td>4433.0</td>\n",
       "      <td>177</td>\n",
       "      <td>2020-08-28 00:00:00</td>\n",
       "      <td>2298</td>\n",
       "      <td>2248.9</td>\n",
       "    </tr>\n",
       "    <tr>\n",
       "      <th>2</th>\n",
       "      <td>20200827</td>\n",
       "      <td>GA</td>\n",
       "      <td>263074.0</td>\n",
       "      <td>2129.0</td>\n",
       "      <td>24127.0</td>\n",
       "      <td>4397.0</td>\n",
       "      <td>176</td>\n",
       "      <td>2020-08-27 00:00:00</td>\n",
       "      <td>2484</td>\n",
       "      <td>2333.3</td>\n",
       "    </tr>\n",
       "    <tr>\n",
       "      <th>3</th>\n",
       "      <td>20200826</td>\n",
       "      <td>GA</td>\n",
       "      <td>260590.0</td>\n",
       "      <td>2227.0</td>\n",
       "      <td>23939.0</td>\n",
       "      <td>4360.0</td>\n",
       "      <td>175</td>\n",
       "      <td>2020-08-26 00:00:00</td>\n",
       "      <td>2236</td>\n",
       "      <td>2372.6</td>\n",
       "    </tr>\n",
       "    <tr>\n",
       "      <th>4</th>\n",
       "      <td>20200825</td>\n",
       "      <td>GA</td>\n",
       "      <td>258354.0</td>\n",
       "      <td>2260.0</td>\n",
       "      <td>23717.0</td>\n",
       "      <td>4322.0</td>\n",
       "      <td>174</td>\n",
       "      <td>2020-08-25 00:00:00</td>\n",
       "      <td>2101</td>\n",
       "      <td>2382.4</td>\n",
       "    </tr>\n",
       "    <tr>\n",
       "      <th>...</th>\n",
       "      <td>...</td>\n",
       "      <td>...</td>\n",
       "      <td>...</td>\n",
       "      <td>...</td>\n",
       "      <td>...</td>\n",
       "      <td>...</td>\n",
       "      <td>...</td>\n",
       "      <td>...</td>\n",
       "      <td>...</td>\n",
       "      <td>...</td>\n",
       "    </tr>\n",
       "    <tr>\n",
       "      <th>174</th>\n",
       "      <td>20200308</td>\n",
       "      <td>GA</td>\n",
       "      <td>7.0</td>\n",
       "      <td>NaN</td>\n",
       "      <td>NaN</td>\n",
       "      <td>NaN</td>\n",
       "      <td>4</td>\n",
       "      <td>2020-03-08 00:00:00</td>\n",
       "      <td>1</td>\n",
       "      <td>1.4</td>\n",
       "    </tr>\n",
       "    <tr>\n",
       "      <th>175</th>\n",
       "      <td>20200307</td>\n",
       "      <td>GA</td>\n",
       "      <td>6.0</td>\n",
       "      <td>NaN</td>\n",
       "      <td>NaN</td>\n",
       "      <td>NaN</td>\n",
       "      <td>3</td>\n",
       "      <td>2020-03-07 00:00:00</td>\n",
       "      <td>4</td>\n",
       "      <td>1.5</td>\n",
       "    </tr>\n",
       "    <tr>\n",
       "      <th>176</th>\n",
       "      <td>20200306</td>\n",
       "      <td>GA</td>\n",
       "      <td>2.0</td>\n",
       "      <td>NaN</td>\n",
       "      <td>NaN</td>\n",
       "      <td>NaN</td>\n",
       "      <td>2</td>\n",
       "      <td>2020-03-06 00:00:00</td>\n",
       "      <td>0</td>\n",
       "      <td>0.7</td>\n",
       "    </tr>\n",
       "    <tr>\n",
       "      <th>177</th>\n",
       "      <td>20200305</td>\n",
       "      <td>GA</td>\n",
       "      <td>2.0</td>\n",
       "      <td>NaN</td>\n",
       "      <td>NaN</td>\n",
       "      <td>NaN</td>\n",
       "      <td>1</td>\n",
       "      <td>2020-03-05 00:00:00</td>\n",
       "      <td>0</td>\n",
       "      <td>1</td>\n",
       "    </tr>\n",
       "    <tr>\n",
       "      <th>178</th>\n",
       "      <td>20200304</td>\n",
       "      <td>GA</td>\n",
       "      <td>2.0</td>\n",
       "      <td>NaN</td>\n",
       "      <td>NaN</td>\n",
       "      <td>NaN</td>\n",
       "      <td>0</td>\n",
       "      <td>2020-03-04 00:00:00</td>\n",
       "      <td>2</td>\n",
       "      <td>2</td>\n",
       "    </tr>\n",
       "  </tbody>\n",
       "</table>\n",
       "<p>179 rows × 10 columns</p>\n",
       "</div>"
      ],
      "text/plain": [
       "         date state  positive  hospitalizedCurrently  hospitalizedCumulative  \\\n",
       "0    20200829    GA  267758.0                 2582.0                 24533.0   \n",
       "1    20200828    GA  265372.0                 2648.0                 24335.0   \n",
       "2    20200827    GA  263074.0                 2129.0                 24127.0   \n",
       "3    20200826    GA  260590.0                 2227.0                 23939.0   \n",
       "4    20200825    GA  258354.0                 2260.0                 23717.0   \n",
       "..        ...   ...       ...                    ...                     ...   \n",
       "174  20200308    GA       7.0                    NaN                     NaN   \n",
       "175  20200307    GA       6.0                    NaN                     NaN   \n",
       "176  20200306    GA       2.0                    NaN                     NaN   \n",
       "177  20200305    GA       2.0                    NaN                     NaN   \n",
       "178  20200304    GA       2.0                    NaN                     NaN   \n",
       "\n",
       "     inIcuCumulative days_from_start          date_format daily_increase  \\\n",
       "0             4479.0             178  2020-08-29 00:00:00           2386   \n",
       "1             4433.0             177  2020-08-28 00:00:00           2298   \n",
       "2             4397.0             176  2020-08-27 00:00:00           2484   \n",
       "3             4360.0             175  2020-08-26 00:00:00           2236   \n",
       "4             4322.0             174  2020-08-25 00:00:00           2101   \n",
       "..               ...             ...                  ...            ...   \n",
       "174              NaN               4  2020-03-08 00:00:00              1   \n",
       "175              NaN               3  2020-03-07 00:00:00              4   \n",
       "176              NaN               2  2020-03-06 00:00:00              0   \n",
       "177              NaN               1  2020-03-05 00:00:00              0   \n",
       "178              NaN               0  2020-03-04 00:00:00              2   \n",
       "\n",
       "    7d_avg_increase  \n",
       "0            2219.4  \n",
       "1            2248.9  \n",
       "2            2333.3  \n",
       "3            2372.6  \n",
       "4            2382.4  \n",
       "..              ...  \n",
       "174             1.4  \n",
       "175             1.5  \n",
       "176             0.7  \n",
       "177               1  \n",
       "178               2  \n",
       "\n",
       "[179 rows x 10 columns]"
      ]
     },
     "execution_count": 121,
     "metadata": {},
     "output_type": "execute_result"
    }
   ],
   "source": [
    "#loop through case increases column, calculate 7-day average increase, insert into new column\n",
    "\n",
    "ga_df['7d_avg_increase'] = ''\n",
    "\n",
    "for x in range(len(ga_df['daily_increase'])):\n",
    "    try:\n",
    "        running_avg = (ga_df.iloc [x:(x + 7), 8]).mean()\n",
    "        ga_df.iloc [x, 9] = round (running_avg, 1)\n",
    "        \n",
    "    except:\n",
    "        running_avg = (ga_df.iloc [-x:, 8]).mean()\n",
    "        ga_df.iloc [x, 9] = round (running_avg, 1)\n",
    "\n",
    "ga_df"
   ]
  },
  {
   "cell_type": "code",
   "execution_count": 154,
   "metadata": {},
   "outputs": [
    {
     "data": {
      "application/vnd.plotly.v1+json": {
       "config": {
        "plotlyServerURL": "https://plot.ly"
       },
       "data": [
        {
         "marker": {
          "color": "#303F9F"
         },
         "name": "daily increase",
         "type": "bar",
         "x": [
          "2020-08-29T00:00:00",
          "2020-08-28T00:00:00",
          "2020-08-27T00:00:00",
          "2020-08-26T00:00:00",
          "2020-08-25T00:00:00",
          "2020-08-24T00:00:00",
          "2020-08-23T00:00:00",
          "2020-08-22T00:00:00",
          "2020-08-21T00:00:00",
          "2020-08-20T00:00:00",
          "2020-08-19T00:00:00",
          "2020-08-18T00:00:00",
          "2020-08-17T00:00:00",
          "2020-08-16T00:00:00",
          "2020-08-15T00:00:00",
          "2020-08-14T00:00:00",
          "2020-08-13T00:00:00",
          "2020-08-12T00:00:00",
          "2020-08-11T00:00:00",
          "2020-08-10T00:00:00",
          "2020-08-09T00:00:00",
          "2020-08-08T00:00:00",
          "2020-08-07T00:00:00",
          "2020-08-06T00:00:00",
          "2020-08-05T00:00:00",
          "2020-08-04T00:00:00",
          "2020-08-03T00:00:00",
          "2020-08-02T00:00:00",
          "2020-08-01T00:00:00",
          "2020-07-31T00:00:00",
          "2020-07-30T00:00:00",
          "2020-07-29T00:00:00",
          "2020-07-28T00:00:00",
          "2020-07-27T00:00:00",
          "2020-07-26T00:00:00",
          "2020-07-25T00:00:00",
          "2020-07-24T00:00:00",
          "2020-07-23T00:00:00",
          "2020-07-22T00:00:00",
          "2020-07-21T00:00:00",
          "2020-07-20T00:00:00",
          "2020-07-19T00:00:00",
          "2020-07-18T00:00:00",
          "2020-07-17T00:00:00",
          "2020-07-16T00:00:00",
          "2020-07-15T00:00:00",
          "2020-07-14T00:00:00",
          "2020-07-13T00:00:00",
          "2020-07-12T00:00:00",
          "2020-07-11T00:00:00",
          "2020-07-10T00:00:00",
          "2020-07-09T00:00:00",
          "2020-07-08T00:00:00",
          "2020-07-07T00:00:00",
          "2020-07-06T00:00:00",
          "2020-07-05T00:00:00",
          "2020-07-04T00:00:00",
          "2020-07-03T00:00:00",
          "2020-07-02T00:00:00",
          "2020-07-01T00:00:00",
          "2020-06-30T00:00:00",
          "2020-06-29T00:00:00",
          "2020-06-28T00:00:00",
          "2020-06-27T00:00:00",
          "2020-06-26T00:00:00",
          "2020-06-25T00:00:00",
          "2020-06-24T00:00:00",
          "2020-06-23T00:00:00",
          "2020-06-22T00:00:00",
          "2020-06-21T00:00:00",
          "2020-06-20T00:00:00",
          "2020-06-19T00:00:00",
          "2020-06-18T00:00:00",
          "2020-06-17T00:00:00",
          "2020-06-16T00:00:00",
          "2020-06-15T00:00:00",
          "2020-06-14T00:00:00",
          "2020-06-13T00:00:00",
          "2020-06-12T00:00:00",
          "2020-06-11T00:00:00",
          "2020-06-10T00:00:00",
          "2020-06-09T00:00:00",
          "2020-06-08T00:00:00",
          "2020-06-07T00:00:00",
          "2020-06-06T00:00:00",
          "2020-06-05T00:00:00",
          "2020-06-04T00:00:00",
          "2020-06-03T00:00:00",
          "2020-06-02T00:00:00",
          "2020-06-01T00:00:00",
          "2020-05-31T00:00:00",
          "2020-05-30T00:00:00",
          "2020-05-29T00:00:00",
          "2020-05-28T00:00:00",
          "2020-05-27T00:00:00",
          "2020-05-26T00:00:00",
          "2020-05-25T00:00:00",
          "2020-05-24T00:00:00",
          "2020-05-23T00:00:00",
          "2020-05-22T00:00:00",
          "2020-05-21T00:00:00",
          "2020-05-20T00:00:00",
          "2020-05-19T00:00:00",
          "2020-05-18T00:00:00",
          "2020-05-17T00:00:00",
          "2020-05-16T00:00:00",
          "2020-05-15T00:00:00",
          "2020-05-14T00:00:00",
          "2020-05-13T00:00:00",
          "2020-05-12T00:00:00",
          "2020-05-11T00:00:00",
          "2020-05-10T00:00:00",
          "2020-05-09T00:00:00",
          "2020-05-08T00:00:00",
          "2020-05-07T00:00:00",
          "2020-05-06T00:00:00",
          "2020-05-05T00:00:00",
          "2020-05-04T00:00:00",
          "2020-05-03T00:00:00",
          "2020-05-02T00:00:00",
          "2020-05-01T00:00:00",
          "2020-04-30T00:00:00",
          "2020-04-29T00:00:00",
          "2020-04-28T00:00:00",
          "2020-04-27T00:00:00",
          "2020-04-26T00:00:00",
          "2020-04-25T00:00:00",
          "2020-04-24T00:00:00",
          "2020-04-23T00:00:00",
          "2020-04-22T00:00:00",
          "2020-04-21T00:00:00",
          "2020-04-20T00:00:00",
          "2020-04-19T00:00:00",
          "2020-04-18T00:00:00",
          "2020-04-17T00:00:00",
          "2020-04-16T00:00:00",
          "2020-04-15T00:00:00",
          "2020-04-14T00:00:00",
          "2020-04-13T00:00:00",
          "2020-04-12T00:00:00",
          "2020-04-11T00:00:00",
          "2020-04-10T00:00:00",
          "2020-04-09T00:00:00",
          "2020-04-08T00:00:00",
          "2020-04-07T00:00:00",
          "2020-04-06T00:00:00",
          "2020-04-05T00:00:00",
          "2020-04-04T00:00:00",
          "2020-04-03T00:00:00",
          "2020-04-02T00:00:00",
          "2020-04-01T00:00:00",
          "2020-03-31T00:00:00",
          "2020-03-30T00:00:00",
          "2020-03-29T00:00:00",
          "2020-03-28T00:00:00",
          "2020-03-27T00:00:00",
          "2020-03-26T00:00:00",
          "2020-03-25T00:00:00",
          "2020-03-24T00:00:00",
          "2020-03-23T00:00:00",
          "2020-03-22T00:00:00",
          "2020-03-21T00:00:00",
          "2020-03-20T00:00:00",
          "2020-03-19T00:00:00",
          "2020-03-18T00:00:00",
          "2020-03-17T00:00:00",
          "2020-03-16T00:00:00",
          "2020-03-15T00:00:00",
          "2020-03-14T00:00:00",
          "2020-03-13T00:00:00",
          "2020-03-12T00:00:00",
          "2020-03-11T00:00:00",
          "2020-03-10T00:00:00",
          "2020-03-09T00:00:00",
          "2020-03-08T00:00:00",
          "2020-03-07T00:00:00",
          "2020-03-06T00:00:00",
          "2020-03-05T00:00:00",
          "2020-03-04T00:00:00"
         ],
         "y": [
          2386,
          2298,
          2484,
          2236,
          2101,
          2304,
          1727,
          2592,
          2889,
          2759,
          2305,
          2816,
          1831,
          1862,
          3273,
          3227,
          2515,
          3565,
          3563,
          2429,
          3169,
          4423,
          4109,
          3182,
          3765,
          2513,
          2258,
          3165,
          3660,
          4066,
          3963,
          3271,
          4209,
          2890,
          2765,
          3787,
          4813,
          4286,
          3314,
          3413,
          2452,
          3251,
          4689,
          3908,
          3441,
          3871,
          3394,
          3643,
          2525,
          3190,
          4484,
          2837,
          3420,
          3406,
          1548,
          2197,
          2826,
          2784,
          3472,
          2946,
          1874,
          2207,
          2225,
          1990,
          1900,
          1714,
          1703,
          1750,
          1227,
          892,
          1800,
          1097,
          882,
          952,
          664,
          733,
          880,
          1018,
          810,
          993,
          731,
          752,
          599,
          589,
          688,
          774,
          953,
          687,
          589,
          632,
          700,
          616,
          600,
          649,
          691,
          386,
          506,
          706,
          914,
          813,
          758,
          926,
          640,
          380,
          554,
          466,
          823,
          526,
          697,
          708,
          486,
          909,
          426,
          667,
          743,
          985,
          343,
          766,
          296,
          1036,
          1115,
          532,
          1008,
          702,
          512,
          706,
          548,
          635,
          772,
          859,
          934,
          646,
          632,
          475,
          1525,
          682,
          764,
          908,
          863,
          293,
          676,
          917,
          665,
          1083,
          1504,
          667,
          487,
          329,
          483,
          710,
          709,
          1120,
          158,
          285,
          365,
          476,
          278,
          221,
          254,
          172,
          93,
          87,
          133,
          90,
          51,
          25,
          22,
          33,
          24,
          11,
          9,
          5,
          5,
          5,
          1,
          4,
          0,
          0,
          2
         ]
        },
        {
         "fill": "tozeroy",
         "fillcolor": "rgba(245, 124, 0, 0.25)",
         "line": {
          "color": "#F57C00"
         },
         "name": "7-day moving average",
         "type": "scatter",
         "x": [
          "2020-08-29T00:00:00",
          "2020-08-28T00:00:00",
          "2020-08-27T00:00:00",
          "2020-08-26T00:00:00",
          "2020-08-25T00:00:00",
          "2020-08-24T00:00:00",
          "2020-08-23T00:00:00",
          "2020-08-22T00:00:00",
          "2020-08-21T00:00:00",
          "2020-08-20T00:00:00",
          "2020-08-19T00:00:00",
          "2020-08-18T00:00:00",
          "2020-08-17T00:00:00",
          "2020-08-16T00:00:00",
          "2020-08-15T00:00:00",
          "2020-08-14T00:00:00",
          "2020-08-13T00:00:00",
          "2020-08-12T00:00:00",
          "2020-08-11T00:00:00",
          "2020-08-10T00:00:00",
          "2020-08-09T00:00:00",
          "2020-08-08T00:00:00",
          "2020-08-07T00:00:00",
          "2020-08-06T00:00:00",
          "2020-08-05T00:00:00",
          "2020-08-04T00:00:00",
          "2020-08-03T00:00:00",
          "2020-08-02T00:00:00",
          "2020-08-01T00:00:00",
          "2020-07-31T00:00:00",
          "2020-07-30T00:00:00",
          "2020-07-29T00:00:00",
          "2020-07-28T00:00:00",
          "2020-07-27T00:00:00",
          "2020-07-26T00:00:00",
          "2020-07-25T00:00:00",
          "2020-07-24T00:00:00",
          "2020-07-23T00:00:00",
          "2020-07-22T00:00:00",
          "2020-07-21T00:00:00",
          "2020-07-20T00:00:00",
          "2020-07-19T00:00:00",
          "2020-07-18T00:00:00",
          "2020-07-17T00:00:00",
          "2020-07-16T00:00:00",
          "2020-07-15T00:00:00",
          "2020-07-14T00:00:00",
          "2020-07-13T00:00:00",
          "2020-07-12T00:00:00",
          "2020-07-11T00:00:00",
          "2020-07-10T00:00:00",
          "2020-07-09T00:00:00",
          "2020-07-08T00:00:00",
          "2020-07-07T00:00:00",
          "2020-07-06T00:00:00",
          "2020-07-05T00:00:00",
          "2020-07-04T00:00:00",
          "2020-07-03T00:00:00",
          "2020-07-02T00:00:00",
          "2020-07-01T00:00:00",
          "2020-06-30T00:00:00",
          "2020-06-29T00:00:00",
          "2020-06-28T00:00:00",
          "2020-06-27T00:00:00",
          "2020-06-26T00:00:00",
          "2020-06-25T00:00:00",
          "2020-06-24T00:00:00",
          "2020-06-23T00:00:00",
          "2020-06-22T00:00:00",
          "2020-06-21T00:00:00",
          "2020-06-20T00:00:00",
          "2020-06-19T00:00:00",
          "2020-06-18T00:00:00",
          "2020-06-17T00:00:00",
          "2020-06-16T00:00:00",
          "2020-06-15T00:00:00",
          "2020-06-14T00:00:00",
          "2020-06-13T00:00:00",
          "2020-06-12T00:00:00",
          "2020-06-11T00:00:00",
          "2020-06-10T00:00:00",
          "2020-06-09T00:00:00",
          "2020-06-08T00:00:00",
          "2020-06-07T00:00:00",
          "2020-06-06T00:00:00",
          "2020-06-05T00:00:00",
          "2020-06-04T00:00:00",
          "2020-06-03T00:00:00",
          "2020-06-02T00:00:00",
          "2020-06-01T00:00:00",
          "2020-05-31T00:00:00",
          "2020-05-30T00:00:00",
          "2020-05-29T00:00:00",
          "2020-05-28T00:00:00",
          "2020-05-27T00:00:00",
          "2020-05-26T00:00:00",
          "2020-05-25T00:00:00",
          "2020-05-24T00:00:00",
          "2020-05-23T00:00:00",
          "2020-05-22T00:00:00",
          "2020-05-21T00:00:00",
          "2020-05-20T00:00:00",
          "2020-05-19T00:00:00",
          "2020-05-18T00:00:00",
          "2020-05-17T00:00:00",
          "2020-05-16T00:00:00",
          "2020-05-15T00:00:00",
          "2020-05-14T00:00:00",
          "2020-05-13T00:00:00",
          "2020-05-12T00:00:00",
          "2020-05-11T00:00:00",
          "2020-05-10T00:00:00",
          "2020-05-09T00:00:00",
          "2020-05-08T00:00:00",
          "2020-05-07T00:00:00",
          "2020-05-06T00:00:00",
          "2020-05-05T00:00:00",
          "2020-05-04T00:00:00",
          "2020-05-03T00:00:00",
          "2020-05-02T00:00:00",
          "2020-05-01T00:00:00",
          "2020-04-30T00:00:00",
          "2020-04-29T00:00:00",
          "2020-04-28T00:00:00",
          "2020-04-27T00:00:00",
          "2020-04-26T00:00:00",
          "2020-04-25T00:00:00",
          "2020-04-24T00:00:00",
          "2020-04-23T00:00:00",
          "2020-04-22T00:00:00",
          "2020-04-21T00:00:00",
          "2020-04-20T00:00:00",
          "2020-04-19T00:00:00",
          "2020-04-18T00:00:00",
          "2020-04-17T00:00:00",
          "2020-04-16T00:00:00",
          "2020-04-15T00:00:00",
          "2020-04-14T00:00:00",
          "2020-04-13T00:00:00",
          "2020-04-12T00:00:00",
          "2020-04-11T00:00:00",
          "2020-04-10T00:00:00",
          "2020-04-09T00:00:00",
          "2020-04-08T00:00:00",
          "2020-04-07T00:00:00",
          "2020-04-06T00:00:00",
          "2020-04-05T00:00:00",
          "2020-04-04T00:00:00",
          "2020-04-03T00:00:00",
          "2020-04-02T00:00:00",
          "2020-04-01T00:00:00",
          "2020-03-31T00:00:00",
          "2020-03-30T00:00:00",
          "2020-03-29T00:00:00",
          "2020-03-28T00:00:00",
          "2020-03-27T00:00:00",
          "2020-03-26T00:00:00",
          "2020-03-25T00:00:00",
          "2020-03-24T00:00:00",
          "2020-03-23T00:00:00",
          "2020-03-22T00:00:00",
          "2020-03-21T00:00:00",
          "2020-03-20T00:00:00",
          "2020-03-19T00:00:00",
          "2020-03-18T00:00:00",
          "2020-03-17T00:00:00",
          "2020-03-16T00:00:00",
          "2020-03-15T00:00:00",
          "2020-03-14T00:00:00",
          "2020-03-13T00:00:00",
          "2020-03-12T00:00:00",
          "2020-03-11T00:00:00",
          "2020-03-10T00:00:00",
          "2020-03-09T00:00:00",
          "2020-03-08T00:00:00",
          "2020-03-07T00:00:00",
          "2020-03-06T00:00:00",
          "2020-03-05T00:00:00",
          "2020-03-04T00:00:00"
         ],
         "y": [
          2219.4,
          2248.9,
          2333.3,
          2372.6,
          2382.4,
          2484.6,
          2417,
          2436.3,
          2533.6,
          2581.9,
          2547,
          2727,
          2833.7,
          2919.1,
          3105.9,
          3270.1,
          3396.1,
          3491.4,
          3520,
          3370,
          3345.6,
          3345,
          3236,
          3229.9,
          3341.4,
          3270.9,
          3513.1,
          3603.4,
          3546.3,
          3564.4,
          3671.1,
          3717.3,
          3723.4,
          3609.7,
          3547.1,
          3616.6,
          3745.4,
          3616.1,
          3495.4,
          3575,
          3572.3,
          3742.4,
          3638.7,
          3424.6,
          3506.9,
          3420.6,
          3356.1,
          3357.9,
          3058.6,
          3011.7,
          2959.7,
          2716.9,
          2807.6,
          2739.9,
          2521,
          2615.1,
          2619.1,
          2499.7,
          2373.4,
          2122.3,
          1944.7,
          1927,
          1787,
          1596.6,
          1569.4,
          1454.7,
          1335.9,
          1228.6,
          1073.4,
          1002.9,
          1001.1,
          889.4,
          848.4,
          864.3,
          832.7,
          845.3,
          826.1,
          784.6,
          737.4,
          732.3,
          726.6,
          720.3,
          697,
          701.7,
          717.6,
          707.3,
          682.4,
          639,
          639.6,
          610.6,
          592.6,
          593.4,
          636,
          666.4,
          682,
          715.6,
          751.9,
          733.9,
          712.1,
          648.1,
          649.6,
          616.4,
          583.7,
          593.4,
          608.6,
          659.3,
          653.6,
          631.3,
          662.3,
          703.4,
          651.3,
          691.3,
          603.7,
          690.9,
          754.9,
          724.7,
          728,
          779.3,
          743,
          801.6,
          731.9,
          663.3,
          697.6,
          676.3,
          709.4,
          728.6,
          718,
          707.6,
          834.7,
          821.9,
          808.3,
          804.6,
          835.6,
          787.1,
          815.9,
          729,
          726.6,
          772.1,
          857.3,
          829.3,
          857,
          807.4,
          745.4,
          751.9,
          698.4,
          643.6,
          570.9,
          542,
          547.1,
          546.1,
          484.4,
          414.7,
          291,
          293,
          265.6,
          225.9,
          176.9,
          150,
          125.7,
          93,
          71.6,
          63,
          54,
          36.6,
          25,
          18.4,
          15.6,
          13.1,
          8.6,
          5.7,
          4.1,
          2.9,
          2.4,
          2,
          1.4,
          1.5,
          0.7,
          1,
          2
         ]
        }
       ],
       "layout": {
        "hoverdistance": 15,
        "hovermode": "x",
        "plot_bgcolor": "whitesmoke",
        "spikedistance": 5000,
        "template": {
         "data": {
          "bar": [
           {
            "error_x": {
             "color": "#2a3f5f"
            },
            "error_y": {
             "color": "#2a3f5f"
            },
            "marker": {
             "line": {
              "color": "#E5ECF6",
              "width": 0.5
             }
            },
            "type": "bar"
           }
          ],
          "barpolar": [
           {
            "marker": {
             "line": {
              "color": "#E5ECF6",
              "width": 0.5
             }
            },
            "type": "barpolar"
           }
          ],
          "carpet": [
           {
            "aaxis": {
             "endlinecolor": "#2a3f5f",
             "gridcolor": "white",
             "linecolor": "white",
             "minorgridcolor": "white",
             "startlinecolor": "#2a3f5f"
            },
            "baxis": {
             "endlinecolor": "#2a3f5f",
             "gridcolor": "white",
             "linecolor": "white",
             "minorgridcolor": "white",
             "startlinecolor": "#2a3f5f"
            },
            "type": "carpet"
           }
          ],
          "choropleth": [
           {
            "colorbar": {
             "outlinewidth": 0,
             "ticks": ""
            },
            "type": "choropleth"
           }
          ],
          "contour": [
           {
            "colorbar": {
             "outlinewidth": 0,
             "ticks": ""
            },
            "colorscale": [
             [
              0,
              "#0d0887"
             ],
             [
              0.1111111111111111,
              "#46039f"
             ],
             [
              0.2222222222222222,
              "#7201a8"
             ],
             [
              0.3333333333333333,
              "#9c179e"
             ],
             [
              0.4444444444444444,
              "#bd3786"
             ],
             [
              0.5555555555555556,
              "#d8576b"
             ],
             [
              0.6666666666666666,
              "#ed7953"
             ],
             [
              0.7777777777777778,
              "#fb9f3a"
             ],
             [
              0.8888888888888888,
              "#fdca26"
             ],
             [
              1,
              "#f0f921"
             ]
            ],
            "type": "contour"
           }
          ],
          "contourcarpet": [
           {
            "colorbar": {
             "outlinewidth": 0,
             "ticks": ""
            },
            "type": "contourcarpet"
           }
          ],
          "heatmap": [
           {
            "colorbar": {
             "outlinewidth": 0,
             "ticks": ""
            },
            "colorscale": [
             [
              0,
              "#0d0887"
             ],
             [
              0.1111111111111111,
              "#46039f"
             ],
             [
              0.2222222222222222,
              "#7201a8"
             ],
             [
              0.3333333333333333,
              "#9c179e"
             ],
             [
              0.4444444444444444,
              "#bd3786"
             ],
             [
              0.5555555555555556,
              "#d8576b"
             ],
             [
              0.6666666666666666,
              "#ed7953"
             ],
             [
              0.7777777777777778,
              "#fb9f3a"
             ],
             [
              0.8888888888888888,
              "#fdca26"
             ],
             [
              1,
              "#f0f921"
             ]
            ],
            "type": "heatmap"
           }
          ],
          "heatmapgl": [
           {
            "colorbar": {
             "outlinewidth": 0,
             "ticks": ""
            },
            "colorscale": [
             [
              0,
              "#0d0887"
             ],
             [
              0.1111111111111111,
              "#46039f"
             ],
             [
              0.2222222222222222,
              "#7201a8"
             ],
             [
              0.3333333333333333,
              "#9c179e"
             ],
             [
              0.4444444444444444,
              "#bd3786"
             ],
             [
              0.5555555555555556,
              "#d8576b"
             ],
             [
              0.6666666666666666,
              "#ed7953"
             ],
             [
              0.7777777777777778,
              "#fb9f3a"
             ],
             [
              0.8888888888888888,
              "#fdca26"
             ],
             [
              1,
              "#f0f921"
             ]
            ],
            "type": "heatmapgl"
           }
          ],
          "histogram": [
           {
            "marker": {
             "colorbar": {
              "outlinewidth": 0,
              "ticks": ""
             }
            },
            "type": "histogram"
           }
          ],
          "histogram2d": [
           {
            "colorbar": {
             "outlinewidth": 0,
             "ticks": ""
            },
            "colorscale": [
             [
              0,
              "#0d0887"
             ],
             [
              0.1111111111111111,
              "#46039f"
             ],
             [
              0.2222222222222222,
              "#7201a8"
             ],
             [
              0.3333333333333333,
              "#9c179e"
             ],
             [
              0.4444444444444444,
              "#bd3786"
             ],
             [
              0.5555555555555556,
              "#d8576b"
             ],
             [
              0.6666666666666666,
              "#ed7953"
             ],
             [
              0.7777777777777778,
              "#fb9f3a"
             ],
             [
              0.8888888888888888,
              "#fdca26"
             ],
             [
              1,
              "#f0f921"
             ]
            ],
            "type": "histogram2d"
           }
          ],
          "histogram2dcontour": [
           {
            "colorbar": {
             "outlinewidth": 0,
             "ticks": ""
            },
            "colorscale": [
             [
              0,
              "#0d0887"
             ],
             [
              0.1111111111111111,
              "#46039f"
             ],
             [
              0.2222222222222222,
              "#7201a8"
             ],
             [
              0.3333333333333333,
              "#9c179e"
             ],
             [
              0.4444444444444444,
              "#bd3786"
             ],
             [
              0.5555555555555556,
              "#d8576b"
             ],
             [
              0.6666666666666666,
              "#ed7953"
             ],
             [
              0.7777777777777778,
              "#fb9f3a"
             ],
             [
              0.8888888888888888,
              "#fdca26"
             ],
             [
              1,
              "#f0f921"
             ]
            ],
            "type": "histogram2dcontour"
           }
          ],
          "mesh3d": [
           {
            "colorbar": {
             "outlinewidth": 0,
             "ticks": ""
            },
            "type": "mesh3d"
           }
          ],
          "parcoords": [
           {
            "line": {
             "colorbar": {
              "outlinewidth": 0,
              "ticks": ""
             }
            },
            "type": "parcoords"
           }
          ],
          "pie": [
           {
            "automargin": true,
            "type": "pie"
           }
          ],
          "scatter": [
           {
            "marker": {
             "colorbar": {
              "outlinewidth": 0,
              "ticks": ""
             }
            },
            "type": "scatter"
           }
          ],
          "scatter3d": [
           {
            "line": {
             "colorbar": {
              "outlinewidth": 0,
              "ticks": ""
             }
            },
            "marker": {
             "colorbar": {
              "outlinewidth": 0,
              "ticks": ""
             }
            },
            "type": "scatter3d"
           }
          ],
          "scattercarpet": [
           {
            "marker": {
             "colorbar": {
              "outlinewidth": 0,
              "ticks": ""
             }
            },
            "type": "scattercarpet"
           }
          ],
          "scattergeo": [
           {
            "marker": {
             "colorbar": {
              "outlinewidth": 0,
              "ticks": ""
             }
            },
            "type": "scattergeo"
           }
          ],
          "scattergl": [
           {
            "marker": {
             "colorbar": {
              "outlinewidth": 0,
              "ticks": ""
             }
            },
            "type": "scattergl"
           }
          ],
          "scattermapbox": [
           {
            "marker": {
             "colorbar": {
              "outlinewidth": 0,
              "ticks": ""
             }
            },
            "type": "scattermapbox"
           }
          ],
          "scatterpolar": [
           {
            "marker": {
             "colorbar": {
              "outlinewidth": 0,
              "ticks": ""
             }
            },
            "type": "scatterpolar"
           }
          ],
          "scatterpolargl": [
           {
            "marker": {
             "colorbar": {
              "outlinewidth": 0,
              "ticks": ""
             }
            },
            "type": "scatterpolargl"
           }
          ],
          "scatterternary": [
           {
            "marker": {
             "colorbar": {
              "outlinewidth": 0,
              "ticks": ""
             }
            },
            "type": "scatterternary"
           }
          ],
          "surface": [
           {
            "colorbar": {
             "outlinewidth": 0,
             "ticks": ""
            },
            "colorscale": [
             [
              0,
              "#0d0887"
             ],
             [
              0.1111111111111111,
              "#46039f"
             ],
             [
              0.2222222222222222,
              "#7201a8"
             ],
             [
              0.3333333333333333,
              "#9c179e"
             ],
             [
              0.4444444444444444,
              "#bd3786"
             ],
             [
              0.5555555555555556,
              "#d8576b"
             ],
             [
              0.6666666666666666,
              "#ed7953"
             ],
             [
              0.7777777777777778,
              "#fb9f3a"
             ],
             [
              0.8888888888888888,
              "#fdca26"
             ],
             [
              1,
              "#f0f921"
             ]
            ],
            "type": "surface"
           }
          ],
          "table": [
           {
            "cells": {
             "fill": {
              "color": "#EBF0F8"
             },
             "line": {
              "color": "white"
             }
            },
            "header": {
             "fill": {
              "color": "#C8D4E3"
             },
             "line": {
              "color": "white"
             }
            },
            "type": "table"
           }
          ]
         },
         "layout": {
          "annotationdefaults": {
           "arrowcolor": "#2a3f5f",
           "arrowhead": 0,
           "arrowwidth": 1
          },
          "coloraxis": {
           "colorbar": {
            "outlinewidth": 0,
            "ticks": ""
           }
          },
          "colorscale": {
           "diverging": [
            [
             0,
             "#8e0152"
            ],
            [
             0.1,
             "#c51b7d"
            ],
            [
             0.2,
             "#de77ae"
            ],
            [
             0.3,
             "#f1b6da"
            ],
            [
             0.4,
             "#fde0ef"
            ],
            [
             0.5,
             "#f7f7f7"
            ],
            [
             0.6,
             "#e6f5d0"
            ],
            [
             0.7,
             "#b8e186"
            ],
            [
             0.8,
             "#7fbc41"
            ],
            [
             0.9,
             "#4d9221"
            ],
            [
             1,
             "#276419"
            ]
           ],
           "sequential": [
            [
             0,
             "#0d0887"
            ],
            [
             0.1111111111111111,
             "#46039f"
            ],
            [
             0.2222222222222222,
             "#7201a8"
            ],
            [
             0.3333333333333333,
             "#9c179e"
            ],
            [
             0.4444444444444444,
             "#bd3786"
            ],
            [
             0.5555555555555556,
             "#d8576b"
            ],
            [
             0.6666666666666666,
             "#ed7953"
            ],
            [
             0.7777777777777778,
             "#fb9f3a"
            ],
            [
             0.8888888888888888,
             "#fdca26"
            ],
            [
             1,
             "#f0f921"
            ]
           ],
           "sequentialminus": [
            [
             0,
             "#0d0887"
            ],
            [
             0.1111111111111111,
             "#46039f"
            ],
            [
             0.2222222222222222,
             "#7201a8"
            ],
            [
             0.3333333333333333,
             "#9c179e"
            ],
            [
             0.4444444444444444,
             "#bd3786"
            ],
            [
             0.5555555555555556,
             "#d8576b"
            ],
            [
             0.6666666666666666,
             "#ed7953"
            ],
            [
             0.7777777777777778,
             "#fb9f3a"
            ],
            [
             0.8888888888888888,
             "#fdca26"
            ],
            [
             1,
             "#f0f921"
            ]
           ]
          },
          "colorway": [
           "#636efa",
           "#EF553B",
           "#00cc96",
           "#ab63fa",
           "#FFA15A",
           "#19d3f3",
           "#FF6692",
           "#B6E880",
           "#FF97FF",
           "#FECB52"
          ],
          "font": {
           "color": "#2a3f5f"
          },
          "geo": {
           "bgcolor": "white",
           "lakecolor": "white",
           "landcolor": "#E5ECF6",
           "showlakes": true,
           "showland": true,
           "subunitcolor": "white"
          },
          "hoverlabel": {
           "align": "left"
          },
          "hovermode": "closest",
          "mapbox": {
           "style": "light"
          },
          "paper_bgcolor": "white",
          "plot_bgcolor": "#E5ECF6",
          "polar": {
           "angularaxis": {
            "gridcolor": "white",
            "linecolor": "white",
            "ticks": ""
           },
           "bgcolor": "#E5ECF6",
           "radialaxis": {
            "gridcolor": "white",
            "linecolor": "white",
            "ticks": ""
           }
          },
          "scene": {
           "xaxis": {
            "backgroundcolor": "#E5ECF6",
            "gridcolor": "white",
            "gridwidth": 2,
            "linecolor": "white",
            "showbackground": true,
            "ticks": "",
            "zerolinecolor": "white"
           },
           "yaxis": {
            "backgroundcolor": "#E5ECF6",
            "gridcolor": "white",
            "gridwidth": 2,
            "linecolor": "white",
            "showbackground": true,
            "ticks": "",
            "zerolinecolor": "white"
           },
           "zaxis": {
            "backgroundcolor": "#E5ECF6",
            "gridcolor": "white",
            "gridwidth": 2,
            "linecolor": "white",
            "showbackground": true,
            "ticks": "",
            "zerolinecolor": "white"
           }
          },
          "shapedefaults": {
           "line": {
            "color": "#2a3f5f"
           }
          },
          "ternary": {
           "aaxis": {
            "gridcolor": "white",
            "linecolor": "white",
            "ticks": ""
           },
           "baxis": {
            "gridcolor": "white",
            "linecolor": "white",
            "ticks": ""
           },
           "bgcolor": "#E5ECF6",
           "caxis": {
            "gridcolor": "white",
            "linecolor": "white",
            "ticks": ""
           }
          },
          "title": {
           "x": 0.05
          },
          "xaxis": {
           "automargin": true,
           "gridcolor": "white",
           "linecolor": "white",
           "ticks": "",
           "title": {
            "standoff": 15
           },
           "zerolinecolor": "white",
           "zerolinewidth": 2
          },
          "yaxis": {
           "automargin": true,
           "gridcolor": "white",
           "linecolor": "white",
           "ticks": "",
           "title": {
            "standoff": 15
           },
           "zerolinecolor": "white",
           "zerolinewidth": 2
          }
         }
        },
        "title": {
         "text": "daily increase of COVID cases in Georgia, US"
        },
        "xaxis": {
         "linecolor": "#BCCCDC",
         "showgrid": false,
         "showspikes": true,
         "spikecolor": "#999999",
         "spikedash": "dot",
         "spikemode": "across",
         "spikethickness": 2,
         "title": {
          "text": "date"
         }
        },
        "yaxis": {
         "linecolor": "#BCCCDC",
         "title": {
          "text": "# of cases"
         }
        }
       }
      },
      "text/html": [
       "<div>\n",
       "        \n",
       "        \n",
       "            <div id=\"16a7d96e-0f8a-4d78-8323-25c29a0415d7\" class=\"plotly-graph-div\" style=\"height:525px; width:100%;\"></div>\n",
       "            <script type=\"text/javascript\">\n",
       "                require([\"plotly\"], function(Plotly) {\n",
       "                    window.PLOTLYENV=window.PLOTLYENV || {};\n",
       "                    \n",
       "                if (document.getElementById(\"16a7d96e-0f8a-4d78-8323-25c29a0415d7\")) {\n",
       "                    Plotly.newPlot(\n",
       "                        '16a7d96e-0f8a-4d78-8323-25c29a0415d7',\n",
       "                        [{\"marker\": {\"color\": \"#303F9F\"}, \"name\": \"daily increase\", \"type\": \"bar\", \"x\": [\"2020-08-29T00:00:00\", \"2020-08-28T00:00:00\", \"2020-08-27T00:00:00\", \"2020-08-26T00:00:00\", \"2020-08-25T00:00:00\", \"2020-08-24T00:00:00\", \"2020-08-23T00:00:00\", \"2020-08-22T00:00:00\", \"2020-08-21T00:00:00\", \"2020-08-20T00:00:00\", \"2020-08-19T00:00:00\", \"2020-08-18T00:00:00\", \"2020-08-17T00:00:00\", \"2020-08-16T00:00:00\", \"2020-08-15T00:00:00\", \"2020-08-14T00:00:00\", \"2020-08-13T00:00:00\", \"2020-08-12T00:00:00\", \"2020-08-11T00:00:00\", \"2020-08-10T00:00:00\", \"2020-08-09T00:00:00\", \"2020-08-08T00:00:00\", \"2020-08-07T00:00:00\", \"2020-08-06T00:00:00\", \"2020-08-05T00:00:00\", \"2020-08-04T00:00:00\", \"2020-08-03T00:00:00\", \"2020-08-02T00:00:00\", \"2020-08-01T00:00:00\", \"2020-07-31T00:00:00\", \"2020-07-30T00:00:00\", \"2020-07-29T00:00:00\", \"2020-07-28T00:00:00\", \"2020-07-27T00:00:00\", \"2020-07-26T00:00:00\", \"2020-07-25T00:00:00\", \"2020-07-24T00:00:00\", \"2020-07-23T00:00:00\", \"2020-07-22T00:00:00\", \"2020-07-21T00:00:00\", \"2020-07-20T00:00:00\", \"2020-07-19T00:00:00\", \"2020-07-18T00:00:00\", \"2020-07-17T00:00:00\", \"2020-07-16T00:00:00\", \"2020-07-15T00:00:00\", \"2020-07-14T00:00:00\", \"2020-07-13T00:00:00\", \"2020-07-12T00:00:00\", \"2020-07-11T00:00:00\", \"2020-07-10T00:00:00\", \"2020-07-09T00:00:00\", \"2020-07-08T00:00:00\", \"2020-07-07T00:00:00\", \"2020-07-06T00:00:00\", \"2020-07-05T00:00:00\", \"2020-07-04T00:00:00\", \"2020-07-03T00:00:00\", \"2020-07-02T00:00:00\", \"2020-07-01T00:00:00\", \"2020-06-30T00:00:00\", \"2020-06-29T00:00:00\", \"2020-06-28T00:00:00\", \"2020-06-27T00:00:00\", \"2020-06-26T00:00:00\", \"2020-06-25T00:00:00\", \"2020-06-24T00:00:00\", \"2020-06-23T00:00:00\", \"2020-06-22T00:00:00\", \"2020-06-21T00:00:00\", \"2020-06-20T00:00:00\", \"2020-06-19T00:00:00\", \"2020-06-18T00:00:00\", \"2020-06-17T00:00:00\", \"2020-06-16T00:00:00\", \"2020-06-15T00:00:00\", \"2020-06-14T00:00:00\", \"2020-06-13T00:00:00\", \"2020-06-12T00:00:00\", \"2020-06-11T00:00:00\", \"2020-06-10T00:00:00\", \"2020-06-09T00:00:00\", \"2020-06-08T00:00:00\", \"2020-06-07T00:00:00\", \"2020-06-06T00:00:00\", \"2020-06-05T00:00:00\", \"2020-06-04T00:00:00\", \"2020-06-03T00:00:00\", \"2020-06-02T00:00:00\", \"2020-06-01T00:00:00\", \"2020-05-31T00:00:00\", \"2020-05-30T00:00:00\", \"2020-05-29T00:00:00\", \"2020-05-28T00:00:00\", \"2020-05-27T00:00:00\", \"2020-05-26T00:00:00\", \"2020-05-25T00:00:00\", \"2020-05-24T00:00:00\", \"2020-05-23T00:00:00\", \"2020-05-22T00:00:00\", \"2020-05-21T00:00:00\", \"2020-05-20T00:00:00\", \"2020-05-19T00:00:00\", \"2020-05-18T00:00:00\", \"2020-05-17T00:00:00\", \"2020-05-16T00:00:00\", \"2020-05-15T00:00:00\", \"2020-05-14T00:00:00\", \"2020-05-13T00:00:00\", \"2020-05-12T00:00:00\", \"2020-05-11T00:00:00\", \"2020-05-10T00:00:00\", \"2020-05-09T00:00:00\", \"2020-05-08T00:00:00\", \"2020-05-07T00:00:00\", \"2020-05-06T00:00:00\", \"2020-05-05T00:00:00\", \"2020-05-04T00:00:00\", \"2020-05-03T00:00:00\", \"2020-05-02T00:00:00\", \"2020-05-01T00:00:00\", \"2020-04-30T00:00:00\", \"2020-04-29T00:00:00\", \"2020-04-28T00:00:00\", \"2020-04-27T00:00:00\", \"2020-04-26T00:00:00\", \"2020-04-25T00:00:00\", \"2020-04-24T00:00:00\", \"2020-04-23T00:00:00\", \"2020-04-22T00:00:00\", \"2020-04-21T00:00:00\", \"2020-04-20T00:00:00\", \"2020-04-19T00:00:00\", \"2020-04-18T00:00:00\", \"2020-04-17T00:00:00\", \"2020-04-16T00:00:00\", \"2020-04-15T00:00:00\", \"2020-04-14T00:00:00\", \"2020-04-13T00:00:00\", \"2020-04-12T00:00:00\", \"2020-04-11T00:00:00\", \"2020-04-10T00:00:00\", \"2020-04-09T00:00:00\", \"2020-04-08T00:00:00\", \"2020-04-07T00:00:00\", \"2020-04-06T00:00:00\", \"2020-04-05T00:00:00\", \"2020-04-04T00:00:00\", \"2020-04-03T00:00:00\", \"2020-04-02T00:00:00\", \"2020-04-01T00:00:00\", \"2020-03-31T00:00:00\", \"2020-03-30T00:00:00\", \"2020-03-29T00:00:00\", \"2020-03-28T00:00:00\", \"2020-03-27T00:00:00\", \"2020-03-26T00:00:00\", \"2020-03-25T00:00:00\", \"2020-03-24T00:00:00\", \"2020-03-23T00:00:00\", \"2020-03-22T00:00:00\", \"2020-03-21T00:00:00\", \"2020-03-20T00:00:00\", \"2020-03-19T00:00:00\", \"2020-03-18T00:00:00\", \"2020-03-17T00:00:00\", \"2020-03-16T00:00:00\", \"2020-03-15T00:00:00\", \"2020-03-14T00:00:00\", \"2020-03-13T00:00:00\", \"2020-03-12T00:00:00\", \"2020-03-11T00:00:00\", \"2020-03-10T00:00:00\", \"2020-03-09T00:00:00\", \"2020-03-08T00:00:00\", \"2020-03-07T00:00:00\", \"2020-03-06T00:00:00\", \"2020-03-05T00:00:00\", \"2020-03-04T00:00:00\"], \"y\": [2386.0, 2298.0, 2484.0, 2236.0, 2101.0, 2304.0, 1727.0, 2592.0, 2889.0, 2759.0, 2305.0, 2816.0, 1831.0, 1862.0, 3273.0, 3227.0, 2515.0, 3565.0, 3563.0, 2429.0, 3169.0, 4423.0, 4109.0, 3182.0, 3765.0, 2513.0, 2258.0, 3165.0, 3660.0, 4066.0, 3963.0, 3271.0, 4209.0, 2890.0, 2765.0, 3787.0, 4813.0, 4286.0, 3314.0, 3413.0, 2452.0, 3251.0, 4689.0, 3908.0, 3441.0, 3871.0, 3394.0, 3643.0, 2525.0, 3190.0, 4484.0, 2837.0, 3420.0, 3406.0, 1548.0, 2197.0, 2826.0, 2784.0, 3472.0, 2946.0, 1874.0, 2207.0, 2225.0, 1990.0, 1900.0, 1714.0, 1703.0, 1750.0, 1227.0, 892.0, 1800.0, 1097.0, 882.0, 952.0, 664.0, 733.0, 880.0, 1018.0, 810.0, 993.0, 731.0, 752.0, 599.0, 589.0, 688.0, 774.0, 953.0, 687.0, 589.0, 632.0, 700.0, 616.0, 600.0, 649.0, 691.0, 386.0, 506.0, 706.0, 914.0, 813.0, 758.0, 926.0, 640.0, 380.0, 554.0, 466.0, 823.0, 526.0, 697.0, 708.0, 486.0, 909.0, 426.0, 667.0, 743.0, 985.0, 343.0, 766.0, 296.0, 1036.0, 1115.0, 532.0, 1008.0, 702.0, 512.0, 706.0, 548.0, 635.0, 772.0, 859.0, 934.0, 646.0, 632.0, 475.0, 1525.0, 682.0, 764.0, 908.0, 863.0, 293.0, 676.0, 917.0, 665.0, 1083.0, 1504.0, 667.0, 487.0, 329.0, 483.0, 710.0, 709.0, 1120.0, 158.0, 285.0, 365.0, 476.0, 278.0, 221.0, 254.0, 172.0, 93.0, 87.0, 133.0, 90.0, 51.0, 25.0, 22.0, 33.0, 24.0, 11.0, 9.0, 5.0, 5.0, 5.0, 1.0, 4.0, 0.0, 0.0, 2.0]}, {\"fill\": \"tozeroy\", \"fillcolor\": \"rgba(245, 124, 0, 0.25)\", \"line\": {\"color\": \"#F57C00\"}, \"name\": \"7-day moving average\", \"type\": \"scatter\", \"x\": [\"2020-08-29T00:00:00\", \"2020-08-28T00:00:00\", \"2020-08-27T00:00:00\", \"2020-08-26T00:00:00\", \"2020-08-25T00:00:00\", \"2020-08-24T00:00:00\", \"2020-08-23T00:00:00\", \"2020-08-22T00:00:00\", \"2020-08-21T00:00:00\", \"2020-08-20T00:00:00\", \"2020-08-19T00:00:00\", \"2020-08-18T00:00:00\", \"2020-08-17T00:00:00\", \"2020-08-16T00:00:00\", \"2020-08-15T00:00:00\", \"2020-08-14T00:00:00\", \"2020-08-13T00:00:00\", \"2020-08-12T00:00:00\", \"2020-08-11T00:00:00\", \"2020-08-10T00:00:00\", \"2020-08-09T00:00:00\", \"2020-08-08T00:00:00\", \"2020-08-07T00:00:00\", \"2020-08-06T00:00:00\", \"2020-08-05T00:00:00\", \"2020-08-04T00:00:00\", \"2020-08-03T00:00:00\", \"2020-08-02T00:00:00\", \"2020-08-01T00:00:00\", \"2020-07-31T00:00:00\", \"2020-07-30T00:00:00\", \"2020-07-29T00:00:00\", \"2020-07-28T00:00:00\", \"2020-07-27T00:00:00\", \"2020-07-26T00:00:00\", \"2020-07-25T00:00:00\", \"2020-07-24T00:00:00\", \"2020-07-23T00:00:00\", \"2020-07-22T00:00:00\", \"2020-07-21T00:00:00\", \"2020-07-20T00:00:00\", \"2020-07-19T00:00:00\", \"2020-07-18T00:00:00\", \"2020-07-17T00:00:00\", \"2020-07-16T00:00:00\", \"2020-07-15T00:00:00\", \"2020-07-14T00:00:00\", \"2020-07-13T00:00:00\", \"2020-07-12T00:00:00\", \"2020-07-11T00:00:00\", \"2020-07-10T00:00:00\", \"2020-07-09T00:00:00\", \"2020-07-08T00:00:00\", \"2020-07-07T00:00:00\", \"2020-07-06T00:00:00\", \"2020-07-05T00:00:00\", \"2020-07-04T00:00:00\", \"2020-07-03T00:00:00\", \"2020-07-02T00:00:00\", \"2020-07-01T00:00:00\", \"2020-06-30T00:00:00\", \"2020-06-29T00:00:00\", \"2020-06-28T00:00:00\", \"2020-06-27T00:00:00\", \"2020-06-26T00:00:00\", \"2020-06-25T00:00:00\", \"2020-06-24T00:00:00\", \"2020-06-23T00:00:00\", \"2020-06-22T00:00:00\", \"2020-06-21T00:00:00\", \"2020-06-20T00:00:00\", \"2020-06-19T00:00:00\", \"2020-06-18T00:00:00\", \"2020-06-17T00:00:00\", \"2020-06-16T00:00:00\", \"2020-06-15T00:00:00\", \"2020-06-14T00:00:00\", \"2020-06-13T00:00:00\", \"2020-06-12T00:00:00\", \"2020-06-11T00:00:00\", \"2020-06-10T00:00:00\", \"2020-06-09T00:00:00\", \"2020-06-08T00:00:00\", \"2020-06-07T00:00:00\", \"2020-06-06T00:00:00\", \"2020-06-05T00:00:00\", \"2020-06-04T00:00:00\", \"2020-06-03T00:00:00\", \"2020-06-02T00:00:00\", \"2020-06-01T00:00:00\", \"2020-05-31T00:00:00\", \"2020-05-30T00:00:00\", \"2020-05-29T00:00:00\", \"2020-05-28T00:00:00\", \"2020-05-27T00:00:00\", \"2020-05-26T00:00:00\", \"2020-05-25T00:00:00\", \"2020-05-24T00:00:00\", \"2020-05-23T00:00:00\", \"2020-05-22T00:00:00\", \"2020-05-21T00:00:00\", \"2020-05-20T00:00:00\", \"2020-05-19T00:00:00\", \"2020-05-18T00:00:00\", \"2020-05-17T00:00:00\", \"2020-05-16T00:00:00\", \"2020-05-15T00:00:00\", \"2020-05-14T00:00:00\", \"2020-05-13T00:00:00\", \"2020-05-12T00:00:00\", \"2020-05-11T00:00:00\", \"2020-05-10T00:00:00\", \"2020-05-09T00:00:00\", \"2020-05-08T00:00:00\", \"2020-05-07T00:00:00\", \"2020-05-06T00:00:00\", \"2020-05-05T00:00:00\", \"2020-05-04T00:00:00\", \"2020-05-03T00:00:00\", \"2020-05-02T00:00:00\", \"2020-05-01T00:00:00\", \"2020-04-30T00:00:00\", \"2020-04-29T00:00:00\", \"2020-04-28T00:00:00\", \"2020-04-27T00:00:00\", \"2020-04-26T00:00:00\", \"2020-04-25T00:00:00\", \"2020-04-24T00:00:00\", \"2020-04-23T00:00:00\", \"2020-04-22T00:00:00\", \"2020-04-21T00:00:00\", \"2020-04-20T00:00:00\", \"2020-04-19T00:00:00\", \"2020-04-18T00:00:00\", \"2020-04-17T00:00:00\", \"2020-04-16T00:00:00\", \"2020-04-15T00:00:00\", \"2020-04-14T00:00:00\", \"2020-04-13T00:00:00\", \"2020-04-12T00:00:00\", \"2020-04-11T00:00:00\", \"2020-04-10T00:00:00\", \"2020-04-09T00:00:00\", \"2020-04-08T00:00:00\", \"2020-04-07T00:00:00\", \"2020-04-06T00:00:00\", \"2020-04-05T00:00:00\", \"2020-04-04T00:00:00\", \"2020-04-03T00:00:00\", \"2020-04-02T00:00:00\", \"2020-04-01T00:00:00\", \"2020-03-31T00:00:00\", \"2020-03-30T00:00:00\", \"2020-03-29T00:00:00\", \"2020-03-28T00:00:00\", \"2020-03-27T00:00:00\", \"2020-03-26T00:00:00\", \"2020-03-25T00:00:00\", \"2020-03-24T00:00:00\", \"2020-03-23T00:00:00\", \"2020-03-22T00:00:00\", \"2020-03-21T00:00:00\", \"2020-03-20T00:00:00\", \"2020-03-19T00:00:00\", \"2020-03-18T00:00:00\", \"2020-03-17T00:00:00\", \"2020-03-16T00:00:00\", \"2020-03-15T00:00:00\", \"2020-03-14T00:00:00\", \"2020-03-13T00:00:00\", \"2020-03-12T00:00:00\", \"2020-03-11T00:00:00\", \"2020-03-10T00:00:00\", \"2020-03-09T00:00:00\", \"2020-03-08T00:00:00\", \"2020-03-07T00:00:00\", \"2020-03-06T00:00:00\", \"2020-03-05T00:00:00\", \"2020-03-04T00:00:00\"], \"y\": [2219.4, 2248.9, 2333.3, 2372.6, 2382.4, 2484.6, 2417.0, 2436.3, 2533.6, 2581.9, 2547.0, 2727.0, 2833.7, 2919.1, 3105.9, 3270.1, 3396.1, 3491.4, 3520.0, 3370.0, 3345.6, 3345.0, 3236.0, 3229.9, 3341.4, 3270.9, 3513.1, 3603.4, 3546.3, 3564.4, 3671.1, 3717.3, 3723.4, 3609.7, 3547.1, 3616.6, 3745.4, 3616.1, 3495.4, 3575.0, 3572.3, 3742.4, 3638.7, 3424.6, 3506.9, 3420.6, 3356.1, 3357.9, 3058.6, 3011.7, 2959.7, 2716.9, 2807.6, 2739.9, 2521.0, 2615.1, 2619.1, 2499.7, 2373.4, 2122.3, 1944.7, 1927.0, 1787.0, 1596.6, 1569.4, 1454.7, 1335.9, 1228.6, 1073.4, 1002.9, 1001.1, 889.4, 848.4, 864.3, 832.7, 845.3, 826.1, 784.6, 737.4, 732.3, 726.6, 720.3, 697.0, 701.7, 717.6, 707.3, 682.4, 639.0, 639.6, 610.6, 592.6, 593.4, 636.0, 666.4, 682.0, 715.6, 751.9, 733.9, 712.1, 648.1, 649.6, 616.4, 583.7, 593.4, 608.6, 659.3, 653.6, 631.3, 662.3, 703.4, 651.3, 691.3, 603.7, 690.9, 754.9, 724.7, 728.0, 779.3, 743.0, 801.6, 731.9, 663.3, 697.6, 676.3, 709.4, 728.6, 718.0, 707.6, 834.7, 821.9, 808.3, 804.6, 835.6, 787.1, 815.9, 729.0, 726.6, 772.1, 857.3, 829.3, 857.0, 807.4, 745.4, 751.9, 698.4, 643.6, 570.9, 542.0, 547.1, 546.1, 484.4, 414.7, 291.0, 293.0, 265.6, 225.9, 176.9, 150.0, 125.7, 93.0, 71.6, 63.0, 54.0, 36.6, 25.0, 18.4, 15.6, 13.1, 8.6, 5.7, 4.1, 2.9, 2.4, 2.0, 1.4, 1.5, 0.7, 1.0, 2.0]}],\n",
       "                        {\"hoverdistance\": 15, \"hovermode\": \"x\", \"plot_bgcolor\": \"whitesmoke\", \"spikedistance\": 5000, \"template\": {\"data\": {\"bar\": [{\"error_x\": {\"color\": \"#2a3f5f\"}, \"error_y\": {\"color\": \"#2a3f5f\"}, \"marker\": {\"line\": {\"color\": \"#E5ECF6\", \"width\": 0.5}}, \"type\": \"bar\"}], \"barpolar\": [{\"marker\": {\"line\": {\"color\": \"#E5ECF6\", \"width\": 0.5}}, \"type\": \"barpolar\"}], \"carpet\": [{\"aaxis\": {\"endlinecolor\": \"#2a3f5f\", \"gridcolor\": \"white\", \"linecolor\": \"white\", \"minorgridcolor\": \"white\", \"startlinecolor\": \"#2a3f5f\"}, \"baxis\": {\"endlinecolor\": \"#2a3f5f\", \"gridcolor\": \"white\", \"linecolor\": \"white\", \"minorgridcolor\": \"white\", \"startlinecolor\": \"#2a3f5f\"}, \"type\": \"carpet\"}], \"choropleth\": [{\"colorbar\": {\"outlinewidth\": 0, \"ticks\": \"\"}, \"type\": \"choropleth\"}], \"contour\": [{\"colorbar\": {\"outlinewidth\": 0, \"ticks\": \"\"}, \"colorscale\": [[0.0, \"#0d0887\"], [0.1111111111111111, \"#46039f\"], [0.2222222222222222, \"#7201a8\"], [0.3333333333333333, \"#9c179e\"], [0.4444444444444444, \"#bd3786\"], [0.5555555555555556, \"#d8576b\"], [0.6666666666666666, \"#ed7953\"], [0.7777777777777778, \"#fb9f3a\"], [0.8888888888888888, \"#fdca26\"], [1.0, \"#f0f921\"]], \"type\": \"contour\"}], \"contourcarpet\": [{\"colorbar\": {\"outlinewidth\": 0, \"ticks\": \"\"}, \"type\": \"contourcarpet\"}], \"heatmap\": [{\"colorbar\": {\"outlinewidth\": 0, \"ticks\": \"\"}, \"colorscale\": [[0.0, \"#0d0887\"], [0.1111111111111111, \"#46039f\"], [0.2222222222222222, \"#7201a8\"], [0.3333333333333333, \"#9c179e\"], [0.4444444444444444, \"#bd3786\"], [0.5555555555555556, \"#d8576b\"], [0.6666666666666666, \"#ed7953\"], [0.7777777777777778, \"#fb9f3a\"], [0.8888888888888888, \"#fdca26\"], [1.0, \"#f0f921\"]], \"type\": \"heatmap\"}], \"heatmapgl\": [{\"colorbar\": {\"outlinewidth\": 0, \"ticks\": \"\"}, \"colorscale\": [[0.0, \"#0d0887\"], [0.1111111111111111, \"#46039f\"], [0.2222222222222222, \"#7201a8\"], [0.3333333333333333, \"#9c179e\"], [0.4444444444444444, \"#bd3786\"], [0.5555555555555556, \"#d8576b\"], [0.6666666666666666, \"#ed7953\"], [0.7777777777777778, \"#fb9f3a\"], [0.8888888888888888, \"#fdca26\"], [1.0, \"#f0f921\"]], \"type\": \"heatmapgl\"}], \"histogram\": [{\"marker\": {\"colorbar\": {\"outlinewidth\": 0, \"ticks\": \"\"}}, \"type\": \"histogram\"}], \"histogram2d\": [{\"colorbar\": {\"outlinewidth\": 0, \"ticks\": \"\"}, \"colorscale\": [[0.0, \"#0d0887\"], [0.1111111111111111, \"#46039f\"], [0.2222222222222222, \"#7201a8\"], [0.3333333333333333, \"#9c179e\"], [0.4444444444444444, \"#bd3786\"], [0.5555555555555556, \"#d8576b\"], [0.6666666666666666, \"#ed7953\"], [0.7777777777777778, \"#fb9f3a\"], [0.8888888888888888, \"#fdca26\"], [1.0, \"#f0f921\"]], \"type\": \"histogram2d\"}], \"histogram2dcontour\": [{\"colorbar\": {\"outlinewidth\": 0, \"ticks\": \"\"}, \"colorscale\": [[0.0, \"#0d0887\"], [0.1111111111111111, \"#46039f\"], [0.2222222222222222, \"#7201a8\"], [0.3333333333333333, \"#9c179e\"], [0.4444444444444444, \"#bd3786\"], [0.5555555555555556, \"#d8576b\"], [0.6666666666666666, \"#ed7953\"], [0.7777777777777778, \"#fb9f3a\"], [0.8888888888888888, \"#fdca26\"], [1.0, \"#f0f921\"]], \"type\": \"histogram2dcontour\"}], \"mesh3d\": [{\"colorbar\": {\"outlinewidth\": 0, \"ticks\": \"\"}, \"type\": \"mesh3d\"}], \"parcoords\": [{\"line\": {\"colorbar\": {\"outlinewidth\": 0, \"ticks\": \"\"}}, \"type\": \"parcoords\"}], \"pie\": [{\"automargin\": true, \"type\": \"pie\"}], \"scatter\": [{\"marker\": {\"colorbar\": {\"outlinewidth\": 0, \"ticks\": \"\"}}, \"type\": \"scatter\"}], \"scatter3d\": [{\"line\": {\"colorbar\": {\"outlinewidth\": 0, \"ticks\": \"\"}}, \"marker\": {\"colorbar\": {\"outlinewidth\": 0, \"ticks\": \"\"}}, \"type\": \"scatter3d\"}], \"scattercarpet\": [{\"marker\": {\"colorbar\": {\"outlinewidth\": 0, \"ticks\": \"\"}}, \"type\": \"scattercarpet\"}], \"scattergeo\": [{\"marker\": {\"colorbar\": {\"outlinewidth\": 0, \"ticks\": \"\"}}, \"type\": \"scattergeo\"}], \"scattergl\": [{\"marker\": {\"colorbar\": {\"outlinewidth\": 0, \"ticks\": \"\"}}, \"type\": \"scattergl\"}], \"scattermapbox\": [{\"marker\": {\"colorbar\": {\"outlinewidth\": 0, \"ticks\": \"\"}}, \"type\": \"scattermapbox\"}], \"scatterpolar\": [{\"marker\": {\"colorbar\": {\"outlinewidth\": 0, \"ticks\": \"\"}}, \"type\": \"scatterpolar\"}], \"scatterpolargl\": [{\"marker\": {\"colorbar\": {\"outlinewidth\": 0, \"ticks\": \"\"}}, \"type\": \"scatterpolargl\"}], \"scatterternary\": [{\"marker\": {\"colorbar\": {\"outlinewidth\": 0, \"ticks\": \"\"}}, \"type\": \"scatterternary\"}], \"surface\": [{\"colorbar\": {\"outlinewidth\": 0, \"ticks\": \"\"}, \"colorscale\": [[0.0, \"#0d0887\"], [0.1111111111111111, \"#46039f\"], [0.2222222222222222, \"#7201a8\"], [0.3333333333333333, \"#9c179e\"], [0.4444444444444444, \"#bd3786\"], [0.5555555555555556, \"#d8576b\"], [0.6666666666666666, \"#ed7953\"], [0.7777777777777778, \"#fb9f3a\"], [0.8888888888888888, \"#fdca26\"], [1.0, \"#f0f921\"]], \"type\": \"surface\"}], \"table\": [{\"cells\": {\"fill\": {\"color\": \"#EBF0F8\"}, \"line\": {\"color\": \"white\"}}, \"header\": {\"fill\": {\"color\": \"#C8D4E3\"}, \"line\": {\"color\": \"white\"}}, \"type\": \"table\"}]}, \"layout\": {\"annotationdefaults\": {\"arrowcolor\": \"#2a3f5f\", \"arrowhead\": 0, \"arrowwidth\": 1}, \"coloraxis\": {\"colorbar\": {\"outlinewidth\": 0, \"ticks\": \"\"}}, \"colorscale\": {\"diverging\": [[0, \"#8e0152\"], [0.1, \"#c51b7d\"], [0.2, \"#de77ae\"], [0.3, \"#f1b6da\"], [0.4, \"#fde0ef\"], [0.5, \"#f7f7f7\"], [0.6, \"#e6f5d0\"], [0.7, \"#b8e186\"], [0.8, \"#7fbc41\"], [0.9, \"#4d9221\"], [1, \"#276419\"]], \"sequential\": [[0.0, \"#0d0887\"], [0.1111111111111111, \"#46039f\"], [0.2222222222222222, \"#7201a8\"], [0.3333333333333333, \"#9c179e\"], [0.4444444444444444, \"#bd3786\"], [0.5555555555555556, \"#d8576b\"], [0.6666666666666666, \"#ed7953\"], [0.7777777777777778, \"#fb9f3a\"], [0.8888888888888888, \"#fdca26\"], [1.0, \"#f0f921\"]], \"sequentialminus\": [[0.0, \"#0d0887\"], [0.1111111111111111, \"#46039f\"], [0.2222222222222222, \"#7201a8\"], [0.3333333333333333, \"#9c179e\"], [0.4444444444444444, \"#bd3786\"], [0.5555555555555556, \"#d8576b\"], [0.6666666666666666, \"#ed7953\"], [0.7777777777777778, \"#fb9f3a\"], [0.8888888888888888, \"#fdca26\"], [1.0, \"#f0f921\"]]}, \"colorway\": [\"#636efa\", \"#EF553B\", \"#00cc96\", \"#ab63fa\", \"#FFA15A\", \"#19d3f3\", \"#FF6692\", \"#B6E880\", \"#FF97FF\", \"#FECB52\"], \"font\": {\"color\": \"#2a3f5f\"}, \"geo\": {\"bgcolor\": \"white\", \"lakecolor\": \"white\", \"landcolor\": \"#E5ECF6\", \"showlakes\": true, \"showland\": true, \"subunitcolor\": \"white\"}, \"hoverlabel\": {\"align\": \"left\"}, \"hovermode\": \"closest\", \"mapbox\": {\"style\": \"light\"}, \"paper_bgcolor\": \"white\", \"plot_bgcolor\": \"#E5ECF6\", \"polar\": {\"angularaxis\": {\"gridcolor\": \"white\", \"linecolor\": \"white\", \"ticks\": \"\"}, \"bgcolor\": \"#E5ECF6\", \"radialaxis\": {\"gridcolor\": \"white\", \"linecolor\": \"white\", \"ticks\": \"\"}}, \"scene\": {\"xaxis\": {\"backgroundcolor\": \"#E5ECF6\", \"gridcolor\": \"white\", \"gridwidth\": 2, \"linecolor\": \"white\", \"showbackground\": true, \"ticks\": \"\", \"zerolinecolor\": \"white\"}, \"yaxis\": {\"backgroundcolor\": \"#E5ECF6\", \"gridcolor\": \"white\", \"gridwidth\": 2, \"linecolor\": \"white\", \"showbackground\": true, \"ticks\": \"\", \"zerolinecolor\": \"white\"}, \"zaxis\": {\"backgroundcolor\": \"#E5ECF6\", \"gridcolor\": \"white\", \"gridwidth\": 2, \"linecolor\": \"white\", \"showbackground\": true, \"ticks\": \"\", \"zerolinecolor\": \"white\"}}, \"shapedefaults\": {\"line\": {\"color\": \"#2a3f5f\"}}, \"ternary\": {\"aaxis\": {\"gridcolor\": \"white\", \"linecolor\": \"white\", \"ticks\": \"\"}, \"baxis\": {\"gridcolor\": \"white\", \"linecolor\": \"white\", \"ticks\": \"\"}, \"bgcolor\": \"#E5ECF6\", \"caxis\": {\"gridcolor\": \"white\", \"linecolor\": \"white\", \"ticks\": \"\"}}, \"title\": {\"x\": 0.05}, \"xaxis\": {\"automargin\": true, \"gridcolor\": \"white\", \"linecolor\": \"white\", \"ticks\": \"\", \"title\": {\"standoff\": 15}, \"zerolinecolor\": \"white\", \"zerolinewidth\": 2}, \"yaxis\": {\"automargin\": true, \"gridcolor\": \"white\", \"linecolor\": \"white\", \"ticks\": \"\", \"title\": {\"standoff\": 15}, \"zerolinecolor\": \"white\", \"zerolinewidth\": 2}}}, \"title\": {\"text\": \"daily increase of COVID cases in Georgia, US\"}, \"xaxis\": {\"linecolor\": \"#BCCCDC\", \"showgrid\": false, \"showspikes\": true, \"spikecolor\": \"#999999\", \"spikedash\": \"dot\", \"spikemode\": \"across\", \"spikethickness\": 2, \"title\": {\"text\": \"date\"}}, \"yaxis\": {\"linecolor\": \"#BCCCDC\", \"title\": {\"text\": \"# of cases\"}}},\n",
       "                        {\"responsive\": true}\n",
       "                    ).then(function(){\n",
       "                            \n",
       "var gd = document.getElementById('16a7d96e-0f8a-4d78-8323-25c29a0415d7');\n",
       "var x = new MutationObserver(function (mutations, observer) {{\n",
       "        var display = window.getComputedStyle(gd).display;\n",
       "        if (!display || display === 'none') {{\n",
       "            console.log([gd, 'removed!']);\n",
       "            Plotly.purge(gd);\n",
       "            observer.disconnect();\n",
       "        }}\n",
       "}});\n",
       "\n",
       "// Listen for the removal of the full notebook cells\n",
       "var notebookContainer = gd.closest('#notebook-container');\n",
       "if (notebookContainer) {{\n",
       "    x.observe(notebookContainer, {childList: true});\n",
       "}}\n",
       "\n",
       "// Listen for the clearing of the current output cell\n",
       "var outputEl = gd.closest('.output');\n",
       "if (outputEl) {{\n",
       "    x.observe(outputEl, {childList: true});\n",
       "}}\n",
       "\n",
       "                        })\n",
       "                };\n",
       "                });\n",
       "            </script>\n",
       "        </div>"
      ]
     },
     "metadata": {},
     "output_type": "display_data"
    }
   ],
   "source": [
    "layout = go.Layout (title = 'daily increase of COVID cases in Georgia, US',\n",
    "                    plot_bgcolor = 'whitesmoke',\n",
    "                    xaxis = dict (title = 'date',\n",
    "                                  showgrid = False,\n",
    "                                  linecolor = \"#BCCCDC\",\n",
    "                                  showspikes = True,\n",
    "                                  spikethickness = 2,\n",
    "                                  spikedash = \"dot\",\n",
    "                                  spikecolor = \"#999999\",\n",
    "                                  spikemode = \"across\",),\n",
    "                    yaxis = dict (title = '# of cases',\n",
    "                                  linecolor = \"#BCCCDC\"),\n",
    "                    hovermode = \"x\",\n",
    "                    hoverdistance = 15,\n",
    "                    spikedistance = 5000)\n",
    "\n",
    "fig = go.Figure(layout = layout)\n",
    "\n",
    "fig.add_trace (\n",
    "    go.Bar (x = ga_df['date_format'],\n",
    "            y = ga_df['daily_increase'],\n",
    "            name = 'daily increase',\n",
    "            marker = dict (color = '#303F9F'))\n",
    ")\n",
    "\n",
    "fig.add_trace (\n",
    "    go.Scatter (x = ga_df['date_format'],\n",
    "                y = ga_df['7d_avg_increase'],\n",
    "                name = '7-day moving average',\n",
    "                line = dict (color = '#F57C00'),\n",
    "                fill = 'tozeroy',\n",
    "                fillcolor = 'rgba(245, 124, 0, 0.25)')\n",
    ")\n",
    "\n",
    "fig.show()"
   ]
  },
  {
   "cell_type": "code",
   "execution_count": 155,
   "metadata": {},
   "outputs": [
    {
     "data": {
      "application/vnd.plotly.v1+json": {
       "config": {
        "plotlyServerURL": "https://plot.ly"
       },
       "data": [
        {
         "marker": {
          "color": "#303F9F"
         },
         "name": "daily increase",
         "type": "bar",
         "x": [
          "2020-08-29T00:00:00",
          "2020-08-28T00:00:00",
          "2020-08-27T00:00:00",
          "2020-08-26T00:00:00",
          "2020-08-25T00:00:00",
          "2020-08-24T00:00:00",
          "2020-08-23T00:00:00",
          "2020-08-22T00:00:00",
          "2020-08-21T00:00:00",
          "2020-08-20T00:00:00",
          "2020-08-19T00:00:00",
          "2020-08-18T00:00:00",
          "2020-08-17T00:00:00",
          "2020-08-16T00:00:00",
          "2020-08-15T00:00:00",
          "2020-08-14T00:00:00",
          "2020-08-13T00:00:00",
          "2020-08-12T00:00:00",
          "2020-08-11T00:00:00",
          "2020-08-10T00:00:00",
          "2020-08-09T00:00:00",
          "2020-08-08T00:00:00",
          "2020-08-07T00:00:00",
          "2020-08-06T00:00:00",
          "2020-08-05T00:00:00",
          "2020-08-04T00:00:00",
          "2020-08-03T00:00:00",
          "2020-08-02T00:00:00",
          "2020-08-01T00:00:00",
          "2020-07-31T00:00:00",
          "2020-07-30T00:00:00",
          "2020-07-29T00:00:00",
          "2020-07-28T00:00:00",
          "2020-07-27T00:00:00",
          "2020-07-26T00:00:00",
          "2020-07-25T00:00:00",
          "2020-07-24T00:00:00",
          "2020-07-23T00:00:00",
          "2020-07-22T00:00:00",
          "2020-07-21T00:00:00",
          "2020-07-20T00:00:00",
          "2020-07-19T00:00:00",
          "2020-07-18T00:00:00",
          "2020-07-17T00:00:00",
          "2020-07-16T00:00:00",
          "2020-07-15T00:00:00",
          "2020-07-14T00:00:00",
          "2020-07-13T00:00:00",
          "2020-07-12T00:00:00",
          "2020-07-11T00:00:00",
          "2020-07-10T00:00:00",
          "2020-07-09T00:00:00",
          "2020-07-08T00:00:00",
          "2020-07-07T00:00:00",
          "2020-07-06T00:00:00",
          "2020-07-05T00:00:00",
          "2020-07-04T00:00:00",
          "2020-07-03T00:00:00",
          "2020-07-02T00:00:00",
          "2020-07-01T00:00:00",
          "2020-06-30T00:00:00",
          "2020-06-29T00:00:00",
          "2020-06-28T00:00:00",
          "2020-06-27T00:00:00",
          "2020-06-26T00:00:00",
          "2020-06-25T00:00:00",
          "2020-06-24T00:00:00",
          "2020-06-23T00:00:00",
          "2020-06-22T00:00:00",
          "2020-06-21T00:00:00",
          "2020-06-20T00:00:00",
          "2020-06-19T00:00:00",
          "2020-06-18T00:00:00",
          "2020-06-17T00:00:00",
          "2020-06-16T00:00:00",
          "2020-06-15T00:00:00",
          "2020-06-14T00:00:00",
          "2020-06-13T00:00:00",
          "2020-06-12T00:00:00",
          "2020-06-11T00:00:00",
          "2020-06-10T00:00:00",
          "2020-06-09T00:00:00",
          "2020-06-08T00:00:00",
          "2020-06-07T00:00:00",
          "2020-06-06T00:00:00",
          "2020-06-05T00:00:00",
          "2020-06-04T00:00:00",
          "2020-06-03T00:00:00",
          "2020-06-02T00:00:00",
          "2020-06-01T00:00:00",
          "2020-05-31T00:00:00",
          "2020-05-30T00:00:00",
          "2020-05-29T00:00:00",
          "2020-05-28T00:00:00",
          "2020-05-27T00:00:00",
          "2020-05-26T00:00:00",
          "2020-05-25T00:00:00",
          "2020-05-24T00:00:00",
          "2020-05-23T00:00:00",
          "2020-05-22T00:00:00",
          "2020-05-21T00:00:00",
          "2020-05-20T00:00:00",
          "2020-05-19T00:00:00",
          "2020-05-18T00:00:00",
          "2020-05-17T00:00:00",
          "2020-05-16T00:00:00",
          "2020-05-15T00:00:00",
          "2020-05-14T00:00:00",
          "2020-05-13T00:00:00",
          "2020-05-12T00:00:00",
          "2020-05-11T00:00:00",
          "2020-05-10T00:00:00",
          "2020-05-09T00:00:00",
          "2020-05-08T00:00:00",
          "2020-05-07T00:00:00",
          "2020-05-06T00:00:00",
          "2020-05-05T00:00:00",
          "2020-05-04T00:00:00",
          "2020-05-03T00:00:00",
          "2020-05-02T00:00:00",
          "2020-05-01T00:00:00",
          "2020-04-30T00:00:00",
          "2020-04-29T00:00:00",
          "2020-04-28T00:00:00",
          "2020-04-27T00:00:00",
          "2020-04-26T00:00:00",
          "2020-04-25T00:00:00",
          "2020-04-24T00:00:00",
          "2020-04-23T00:00:00",
          "2020-04-22T00:00:00",
          "2020-04-21T00:00:00",
          "2020-04-20T00:00:00",
          "2020-04-19T00:00:00",
          "2020-04-18T00:00:00",
          "2020-04-17T00:00:00",
          "2020-04-16T00:00:00",
          "2020-04-15T00:00:00",
          "2020-04-14T00:00:00",
          "2020-04-13T00:00:00",
          "2020-04-12T00:00:00",
          "2020-04-11T00:00:00",
          "2020-04-10T00:00:00",
          "2020-04-09T00:00:00",
          "2020-04-08T00:00:00",
          "2020-04-07T00:00:00",
          "2020-04-06T00:00:00",
          "2020-04-05T00:00:00",
          "2020-04-04T00:00:00",
          "2020-04-03T00:00:00",
          "2020-04-02T00:00:00",
          "2020-04-01T00:00:00",
          "2020-03-31T00:00:00",
          "2020-03-30T00:00:00",
          "2020-03-29T00:00:00",
          "2020-03-28T00:00:00",
          "2020-03-27T00:00:00",
          "2020-03-26T00:00:00",
          "2020-03-25T00:00:00",
          "2020-03-24T00:00:00",
          "2020-03-23T00:00:00",
          "2020-03-22T00:00:00",
          "2020-03-21T00:00:00",
          "2020-03-20T00:00:00",
          "2020-03-19T00:00:00",
          "2020-03-18T00:00:00",
          "2020-03-17T00:00:00",
          "2020-03-16T00:00:00",
          "2020-03-15T00:00:00",
          "2020-03-14T00:00:00",
          "2020-03-13T00:00:00",
          "2020-03-12T00:00:00",
          "2020-03-11T00:00:00",
          "2020-03-10T00:00:00",
          "2020-03-09T00:00:00",
          "2020-03-08T00:00:00",
          "2020-03-07T00:00:00",
          "2020-03-06T00:00:00",
          "2020-03-05T00:00:00",
          "2020-03-04T00:00:00"
         ],
         "y": [
          2386,
          2298,
          2484,
          2236,
          2101,
          2304,
          1727,
          2592,
          2889,
          2759,
          2305,
          2816,
          1831,
          1862,
          3273,
          3227,
          2515,
          3565,
          3563,
          2429,
          3169,
          4423,
          4109,
          3182,
          3765,
          2513,
          2258,
          3165,
          3660,
          4066,
          3963,
          3271,
          4209,
          2890,
          2765,
          3787,
          4813,
          4286,
          3314,
          3413,
          2452,
          3251,
          4689,
          3908,
          3441,
          3871,
          3394,
          3643,
          2525,
          3190,
          4484,
          2837,
          3420,
          3406,
          1548,
          2197,
          2826,
          2784,
          3472,
          2946,
          1874,
          2207,
          2225,
          1990,
          1900,
          1714,
          1703,
          1750,
          1227,
          892,
          1800,
          1097,
          882,
          952,
          664,
          733,
          880,
          1018,
          810,
          993,
          731,
          752,
          599,
          589,
          688,
          774,
          953,
          687,
          589,
          632,
          700,
          616,
          600,
          649,
          691,
          386,
          506,
          706,
          914,
          813,
          758,
          926,
          640,
          380,
          554,
          466,
          823,
          526,
          697,
          708,
          486,
          909,
          426,
          667,
          743,
          985,
          343,
          766,
          296,
          1036,
          1115,
          532,
          1008,
          702,
          512,
          706,
          548,
          635,
          772,
          859,
          934,
          646,
          632,
          475,
          1525,
          682,
          764,
          908,
          863,
          293,
          676,
          917,
          665,
          1083,
          1504,
          667,
          487,
          329,
          483,
          710,
          709,
          1120,
          158,
          285,
          365,
          476,
          278,
          221,
          254,
          172,
          93,
          87,
          133,
          90,
          51,
          25,
          22,
          33,
          24,
          11,
          9,
          5,
          5,
          5,
          1,
          4,
          0,
          0,
          2
         ]
        },
        {
         "fill": "tozeroy",
         "fillcolor": "rgba(245, 124, 0, 0.25)",
         "line": {
          "color": "#F57C00"
         },
         "name": "7-day moving average",
         "type": "scatter",
         "x": [
          "2020-08-29T00:00:00",
          "2020-08-28T00:00:00",
          "2020-08-27T00:00:00",
          "2020-08-26T00:00:00",
          "2020-08-25T00:00:00",
          "2020-08-24T00:00:00",
          "2020-08-23T00:00:00",
          "2020-08-22T00:00:00",
          "2020-08-21T00:00:00",
          "2020-08-20T00:00:00",
          "2020-08-19T00:00:00",
          "2020-08-18T00:00:00",
          "2020-08-17T00:00:00",
          "2020-08-16T00:00:00",
          "2020-08-15T00:00:00",
          "2020-08-14T00:00:00",
          "2020-08-13T00:00:00",
          "2020-08-12T00:00:00",
          "2020-08-11T00:00:00",
          "2020-08-10T00:00:00",
          "2020-08-09T00:00:00",
          "2020-08-08T00:00:00",
          "2020-08-07T00:00:00",
          "2020-08-06T00:00:00",
          "2020-08-05T00:00:00",
          "2020-08-04T00:00:00",
          "2020-08-03T00:00:00",
          "2020-08-02T00:00:00",
          "2020-08-01T00:00:00",
          "2020-07-31T00:00:00",
          "2020-07-30T00:00:00",
          "2020-07-29T00:00:00",
          "2020-07-28T00:00:00",
          "2020-07-27T00:00:00",
          "2020-07-26T00:00:00",
          "2020-07-25T00:00:00",
          "2020-07-24T00:00:00",
          "2020-07-23T00:00:00",
          "2020-07-22T00:00:00",
          "2020-07-21T00:00:00",
          "2020-07-20T00:00:00",
          "2020-07-19T00:00:00",
          "2020-07-18T00:00:00",
          "2020-07-17T00:00:00",
          "2020-07-16T00:00:00",
          "2020-07-15T00:00:00",
          "2020-07-14T00:00:00",
          "2020-07-13T00:00:00",
          "2020-07-12T00:00:00",
          "2020-07-11T00:00:00",
          "2020-07-10T00:00:00",
          "2020-07-09T00:00:00",
          "2020-07-08T00:00:00",
          "2020-07-07T00:00:00",
          "2020-07-06T00:00:00",
          "2020-07-05T00:00:00",
          "2020-07-04T00:00:00",
          "2020-07-03T00:00:00",
          "2020-07-02T00:00:00",
          "2020-07-01T00:00:00",
          "2020-06-30T00:00:00",
          "2020-06-29T00:00:00",
          "2020-06-28T00:00:00",
          "2020-06-27T00:00:00",
          "2020-06-26T00:00:00",
          "2020-06-25T00:00:00",
          "2020-06-24T00:00:00",
          "2020-06-23T00:00:00",
          "2020-06-22T00:00:00",
          "2020-06-21T00:00:00",
          "2020-06-20T00:00:00",
          "2020-06-19T00:00:00",
          "2020-06-18T00:00:00",
          "2020-06-17T00:00:00",
          "2020-06-16T00:00:00",
          "2020-06-15T00:00:00",
          "2020-06-14T00:00:00",
          "2020-06-13T00:00:00",
          "2020-06-12T00:00:00",
          "2020-06-11T00:00:00",
          "2020-06-10T00:00:00",
          "2020-06-09T00:00:00",
          "2020-06-08T00:00:00",
          "2020-06-07T00:00:00",
          "2020-06-06T00:00:00",
          "2020-06-05T00:00:00",
          "2020-06-04T00:00:00",
          "2020-06-03T00:00:00",
          "2020-06-02T00:00:00",
          "2020-06-01T00:00:00",
          "2020-05-31T00:00:00",
          "2020-05-30T00:00:00",
          "2020-05-29T00:00:00",
          "2020-05-28T00:00:00",
          "2020-05-27T00:00:00",
          "2020-05-26T00:00:00",
          "2020-05-25T00:00:00",
          "2020-05-24T00:00:00",
          "2020-05-23T00:00:00",
          "2020-05-22T00:00:00",
          "2020-05-21T00:00:00",
          "2020-05-20T00:00:00",
          "2020-05-19T00:00:00",
          "2020-05-18T00:00:00",
          "2020-05-17T00:00:00",
          "2020-05-16T00:00:00",
          "2020-05-15T00:00:00",
          "2020-05-14T00:00:00",
          "2020-05-13T00:00:00",
          "2020-05-12T00:00:00",
          "2020-05-11T00:00:00",
          "2020-05-10T00:00:00",
          "2020-05-09T00:00:00",
          "2020-05-08T00:00:00",
          "2020-05-07T00:00:00",
          "2020-05-06T00:00:00",
          "2020-05-05T00:00:00",
          "2020-05-04T00:00:00",
          "2020-05-03T00:00:00",
          "2020-05-02T00:00:00",
          "2020-05-01T00:00:00",
          "2020-04-30T00:00:00",
          "2020-04-29T00:00:00",
          "2020-04-28T00:00:00",
          "2020-04-27T00:00:00",
          "2020-04-26T00:00:00",
          "2020-04-25T00:00:00",
          "2020-04-24T00:00:00",
          "2020-04-23T00:00:00",
          "2020-04-22T00:00:00",
          "2020-04-21T00:00:00",
          "2020-04-20T00:00:00",
          "2020-04-19T00:00:00",
          "2020-04-18T00:00:00",
          "2020-04-17T00:00:00",
          "2020-04-16T00:00:00",
          "2020-04-15T00:00:00",
          "2020-04-14T00:00:00",
          "2020-04-13T00:00:00",
          "2020-04-12T00:00:00",
          "2020-04-11T00:00:00",
          "2020-04-10T00:00:00",
          "2020-04-09T00:00:00",
          "2020-04-08T00:00:00",
          "2020-04-07T00:00:00",
          "2020-04-06T00:00:00",
          "2020-04-05T00:00:00",
          "2020-04-04T00:00:00",
          "2020-04-03T00:00:00",
          "2020-04-02T00:00:00",
          "2020-04-01T00:00:00",
          "2020-03-31T00:00:00",
          "2020-03-30T00:00:00",
          "2020-03-29T00:00:00",
          "2020-03-28T00:00:00",
          "2020-03-27T00:00:00",
          "2020-03-26T00:00:00",
          "2020-03-25T00:00:00",
          "2020-03-24T00:00:00",
          "2020-03-23T00:00:00",
          "2020-03-22T00:00:00",
          "2020-03-21T00:00:00",
          "2020-03-20T00:00:00",
          "2020-03-19T00:00:00",
          "2020-03-18T00:00:00",
          "2020-03-17T00:00:00",
          "2020-03-16T00:00:00",
          "2020-03-15T00:00:00",
          "2020-03-14T00:00:00",
          "2020-03-13T00:00:00",
          "2020-03-12T00:00:00",
          "2020-03-11T00:00:00",
          "2020-03-10T00:00:00",
          "2020-03-09T00:00:00",
          "2020-03-08T00:00:00",
          "2020-03-07T00:00:00",
          "2020-03-06T00:00:00",
          "2020-03-05T00:00:00",
          "2020-03-04T00:00:00"
         ],
         "y": [
          2219.4,
          2248.9,
          2333.3,
          2372.6,
          2382.4,
          2484.6,
          2417,
          2436.3,
          2533.6,
          2581.9,
          2547,
          2727,
          2833.7,
          2919.1,
          3105.9,
          3270.1,
          3396.1,
          3491.4,
          3520,
          3370,
          3345.6,
          3345,
          3236,
          3229.9,
          3341.4,
          3270.9,
          3513.1,
          3603.4,
          3546.3,
          3564.4,
          3671.1,
          3717.3,
          3723.4,
          3609.7,
          3547.1,
          3616.6,
          3745.4,
          3616.1,
          3495.4,
          3575,
          3572.3,
          3742.4,
          3638.7,
          3424.6,
          3506.9,
          3420.6,
          3356.1,
          3357.9,
          3058.6,
          3011.7,
          2959.7,
          2716.9,
          2807.6,
          2739.9,
          2521,
          2615.1,
          2619.1,
          2499.7,
          2373.4,
          2122.3,
          1944.7,
          1927,
          1787,
          1596.6,
          1569.4,
          1454.7,
          1335.9,
          1228.6,
          1073.4,
          1002.9,
          1001.1,
          889.4,
          848.4,
          864.3,
          832.7,
          845.3,
          826.1,
          784.6,
          737.4,
          732.3,
          726.6,
          720.3,
          697,
          701.7,
          717.6,
          707.3,
          682.4,
          639,
          639.6,
          610.6,
          592.6,
          593.4,
          636,
          666.4,
          682,
          715.6,
          751.9,
          733.9,
          712.1,
          648.1,
          649.6,
          616.4,
          583.7,
          593.4,
          608.6,
          659.3,
          653.6,
          631.3,
          662.3,
          703.4,
          651.3,
          691.3,
          603.7,
          690.9,
          754.9,
          724.7,
          728,
          779.3,
          743,
          801.6,
          731.9,
          663.3,
          697.6,
          676.3,
          709.4,
          728.6,
          718,
          707.6,
          834.7,
          821.9,
          808.3,
          804.6,
          835.6,
          787.1,
          815.9,
          729,
          726.6,
          772.1,
          857.3,
          829.3,
          857,
          807.4,
          745.4,
          751.9,
          698.4,
          643.6,
          570.9,
          542,
          547.1,
          546.1,
          484.4,
          414.7,
          291,
          293,
          265.6,
          225.9,
          176.9,
          150,
          125.7,
          93,
          71.6,
          63,
          54,
          36.6,
          25,
          18.4,
          15.6,
          13.1,
          8.6,
          5.7,
          4.1,
          2.9,
          2.4,
          2,
          1.4,
          1.5,
          0.7,
          1,
          2
         ]
        },
        {
         "hovertemplate": "<b>Apr 10, 2020:</b><br>8 days after shelter-in-place order<extra></extra>",
         "line": {
          "color": "#B0BEC5",
          "dash": "dashdot",
          "width": 2
         },
         "mode": "lines",
         "opacity": 0.7,
         "showlegend": false,
         "type": "scatter",
         "x": [
          "2020-04-10",
          "2020-04-10"
         ],
         "y": [
          0,
          5500
         ]
        },
        {
         "hovertemplate": "<b>May 02, 2020:</b><br>8 days after businesses are allowed to reopen<extra></extra>",
         "line": {
          "color": "#B0BEC5",
          "dash": "dashdot",
          "width": 2
         },
         "mode": "lines",
         "opacity": 0.7,
         "showlegend": false,
         "type": "scatter",
         "x": [
          "2020-05-02",
          "2020-05-02"
         ],
         "y": [
          0,
          5500
         ]
        },
        {
         "hovertemplate": "<b>Jun 20, 2020:</b><br>8 days after kemp loosens restrictions on gatherings at<br>restaurants, theaters, summer camps, conventions, & concerts<extra></extra>",
         "line": {
          "color": "#B0BEC5",
          "dash": "dashdot",
          "width": 2
         },
         "mode": "lines",
         "opacity": 0.7,
         "showlegend": false,
         "type": "scatter",
         "x": [
          "2020-06-20",
          "2020-06-20"
         ],
         "y": [
          0,
          5500
         ]
        },
        {
         "hovertemplate": "<b>Jul 12, 2020:</b><br>8 days after july 4th<extra></extra>",
         "line": {
          "color": "#B0BEC5",
          "dash": "dashdot",
          "width": 2
         },
         "mode": "lines",
         "opacity": 0.7,
         "showlegend": false,
         "type": "scatter",
         "x": [
          "2020-07-12",
          "2020-07-12"
         ],
         "y": [
          0,
          5500
         ]
        },
        {
         "hovertemplate": "<b>Jul 23, 2020:</b><br>8 days after kemp overrules city mask mandates<extra></extra>",
         "line": {
          "color": "#B0BEC5",
          "dash": "dashdot",
          "width": 2
         },
         "mode": "lines",
         "opacity": 0.7,
         "showlegend": false,
         "type": "scatter",
         "x": [
          "2020-07-23",
          "2020-07-23"
         ],
         "y": [
          0,
          5500
         ]
        },
        {
         "hovertemplate": "<b>Aug 15, 2020:</b><br>kemp allows mask mandates<extra></extra>",
         "line": {
          "color": "#B0BEC5",
          "dash": "dashdot",
          "width": 2
         },
         "mode": "lines",
         "opacity": 0.7,
         "showlegend": false,
         "type": "scatter",
         "x": [
          "2020-08-15",
          "2020-08-15"
         ],
         "y": [
          0,
          5500
         ]
        }
       ],
       "layout": {
        "hoverdistance": 15,
        "hovermode": "x",
        "plot_bgcolor": "whitesmoke",
        "spikedistance": 5000,
        "template": {
         "data": {
          "bar": [
           {
            "error_x": {
             "color": "#2a3f5f"
            },
            "error_y": {
             "color": "#2a3f5f"
            },
            "marker": {
             "line": {
              "color": "#E5ECF6",
              "width": 0.5
             }
            },
            "type": "bar"
           }
          ],
          "barpolar": [
           {
            "marker": {
             "line": {
              "color": "#E5ECF6",
              "width": 0.5
             }
            },
            "type": "barpolar"
           }
          ],
          "carpet": [
           {
            "aaxis": {
             "endlinecolor": "#2a3f5f",
             "gridcolor": "white",
             "linecolor": "white",
             "minorgridcolor": "white",
             "startlinecolor": "#2a3f5f"
            },
            "baxis": {
             "endlinecolor": "#2a3f5f",
             "gridcolor": "white",
             "linecolor": "white",
             "minorgridcolor": "white",
             "startlinecolor": "#2a3f5f"
            },
            "type": "carpet"
           }
          ],
          "choropleth": [
           {
            "colorbar": {
             "outlinewidth": 0,
             "ticks": ""
            },
            "type": "choropleth"
           }
          ],
          "contour": [
           {
            "colorbar": {
             "outlinewidth": 0,
             "ticks": ""
            },
            "colorscale": [
             [
              0,
              "#0d0887"
             ],
             [
              0.1111111111111111,
              "#46039f"
             ],
             [
              0.2222222222222222,
              "#7201a8"
             ],
             [
              0.3333333333333333,
              "#9c179e"
             ],
             [
              0.4444444444444444,
              "#bd3786"
             ],
             [
              0.5555555555555556,
              "#d8576b"
             ],
             [
              0.6666666666666666,
              "#ed7953"
             ],
             [
              0.7777777777777778,
              "#fb9f3a"
             ],
             [
              0.8888888888888888,
              "#fdca26"
             ],
             [
              1,
              "#f0f921"
             ]
            ],
            "type": "contour"
           }
          ],
          "contourcarpet": [
           {
            "colorbar": {
             "outlinewidth": 0,
             "ticks": ""
            },
            "type": "contourcarpet"
           }
          ],
          "heatmap": [
           {
            "colorbar": {
             "outlinewidth": 0,
             "ticks": ""
            },
            "colorscale": [
             [
              0,
              "#0d0887"
             ],
             [
              0.1111111111111111,
              "#46039f"
             ],
             [
              0.2222222222222222,
              "#7201a8"
             ],
             [
              0.3333333333333333,
              "#9c179e"
             ],
             [
              0.4444444444444444,
              "#bd3786"
             ],
             [
              0.5555555555555556,
              "#d8576b"
             ],
             [
              0.6666666666666666,
              "#ed7953"
             ],
             [
              0.7777777777777778,
              "#fb9f3a"
             ],
             [
              0.8888888888888888,
              "#fdca26"
             ],
             [
              1,
              "#f0f921"
             ]
            ],
            "type": "heatmap"
           }
          ],
          "heatmapgl": [
           {
            "colorbar": {
             "outlinewidth": 0,
             "ticks": ""
            },
            "colorscale": [
             [
              0,
              "#0d0887"
             ],
             [
              0.1111111111111111,
              "#46039f"
             ],
             [
              0.2222222222222222,
              "#7201a8"
             ],
             [
              0.3333333333333333,
              "#9c179e"
             ],
             [
              0.4444444444444444,
              "#bd3786"
             ],
             [
              0.5555555555555556,
              "#d8576b"
             ],
             [
              0.6666666666666666,
              "#ed7953"
             ],
             [
              0.7777777777777778,
              "#fb9f3a"
             ],
             [
              0.8888888888888888,
              "#fdca26"
             ],
             [
              1,
              "#f0f921"
             ]
            ],
            "type": "heatmapgl"
           }
          ],
          "histogram": [
           {
            "marker": {
             "colorbar": {
              "outlinewidth": 0,
              "ticks": ""
             }
            },
            "type": "histogram"
           }
          ],
          "histogram2d": [
           {
            "colorbar": {
             "outlinewidth": 0,
             "ticks": ""
            },
            "colorscale": [
             [
              0,
              "#0d0887"
             ],
             [
              0.1111111111111111,
              "#46039f"
             ],
             [
              0.2222222222222222,
              "#7201a8"
             ],
             [
              0.3333333333333333,
              "#9c179e"
             ],
             [
              0.4444444444444444,
              "#bd3786"
             ],
             [
              0.5555555555555556,
              "#d8576b"
             ],
             [
              0.6666666666666666,
              "#ed7953"
             ],
             [
              0.7777777777777778,
              "#fb9f3a"
             ],
             [
              0.8888888888888888,
              "#fdca26"
             ],
             [
              1,
              "#f0f921"
             ]
            ],
            "type": "histogram2d"
           }
          ],
          "histogram2dcontour": [
           {
            "colorbar": {
             "outlinewidth": 0,
             "ticks": ""
            },
            "colorscale": [
             [
              0,
              "#0d0887"
             ],
             [
              0.1111111111111111,
              "#46039f"
             ],
             [
              0.2222222222222222,
              "#7201a8"
             ],
             [
              0.3333333333333333,
              "#9c179e"
             ],
             [
              0.4444444444444444,
              "#bd3786"
             ],
             [
              0.5555555555555556,
              "#d8576b"
             ],
             [
              0.6666666666666666,
              "#ed7953"
             ],
             [
              0.7777777777777778,
              "#fb9f3a"
             ],
             [
              0.8888888888888888,
              "#fdca26"
             ],
             [
              1,
              "#f0f921"
             ]
            ],
            "type": "histogram2dcontour"
           }
          ],
          "mesh3d": [
           {
            "colorbar": {
             "outlinewidth": 0,
             "ticks": ""
            },
            "type": "mesh3d"
           }
          ],
          "parcoords": [
           {
            "line": {
             "colorbar": {
              "outlinewidth": 0,
              "ticks": ""
             }
            },
            "type": "parcoords"
           }
          ],
          "pie": [
           {
            "automargin": true,
            "type": "pie"
           }
          ],
          "scatter": [
           {
            "marker": {
             "colorbar": {
              "outlinewidth": 0,
              "ticks": ""
             }
            },
            "type": "scatter"
           }
          ],
          "scatter3d": [
           {
            "line": {
             "colorbar": {
              "outlinewidth": 0,
              "ticks": ""
             }
            },
            "marker": {
             "colorbar": {
              "outlinewidth": 0,
              "ticks": ""
             }
            },
            "type": "scatter3d"
           }
          ],
          "scattercarpet": [
           {
            "marker": {
             "colorbar": {
              "outlinewidth": 0,
              "ticks": ""
             }
            },
            "type": "scattercarpet"
           }
          ],
          "scattergeo": [
           {
            "marker": {
             "colorbar": {
              "outlinewidth": 0,
              "ticks": ""
             }
            },
            "type": "scattergeo"
           }
          ],
          "scattergl": [
           {
            "marker": {
             "colorbar": {
              "outlinewidth": 0,
              "ticks": ""
             }
            },
            "type": "scattergl"
           }
          ],
          "scattermapbox": [
           {
            "marker": {
             "colorbar": {
              "outlinewidth": 0,
              "ticks": ""
             }
            },
            "type": "scattermapbox"
           }
          ],
          "scatterpolar": [
           {
            "marker": {
             "colorbar": {
              "outlinewidth": 0,
              "ticks": ""
             }
            },
            "type": "scatterpolar"
           }
          ],
          "scatterpolargl": [
           {
            "marker": {
             "colorbar": {
              "outlinewidth": 0,
              "ticks": ""
             }
            },
            "type": "scatterpolargl"
           }
          ],
          "scatterternary": [
           {
            "marker": {
             "colorbar": {
              "outlinewidth": 0,
              "ticks": ""
             }
            },
            "type": "scatterternary"
           }
          ],
          "surface": [
           {
            "colorbar": {
             "outlinewidth": 0,
             "ticks": ""
            },
            "colorscale": [
             [
              0,
              "#0d0887"
             ],
             [
              0.1111111111111111,
              "#46039f"
             ],
             [
              0.2222222222222222,
              "#7201a8"
             ],
             [
              0.3333333333333333,
              "#9c179e"
             ],
             [
              0.4444444444444444,
              "#bd3786"
             ],
             [
              0.5555555555555556,
              "#d8576b"
             ],
             [
              0.6666666666666666,
              "#ed7953"
             ],
             [
              0.7777777777777778,
              "#fb9f3a"
             ],
             [
              0.8888888888888888,
              "#fdca26"
             ],
             [
              1,
              "#f0f921"
             ]
            ],
            "type": "surface"
           }
          ],
          "table": [
           {
            "cells": {
             "fill": {
              "color": "#EBF0F8"
             },
             "line": {
              "color": "white"
             }
            },
            "header": {
             "fill": {
              "color": "#C8D4E3"
             },
             "line": {
              "color": "white"
             }
            },
            "type": "table"
           }
          ]
         },
         "layout": {
          "annotationdefaults": {
           "arrowcolor": "#2a3f5f",
           "arrowhead": 0,
           "arrowwidth": 1
          },
          "coloraxis": {
           "colorbar": {
            "outlinewidth": 0,
            "ticks": ""
           }
          },
          "colorscale": {
           "diverging": [
            [
             0,
             "#8e0152"
            ],
            [
             0.1,
             "#c51b7d"
            ],
            [
             0.2,
             "#de77ae"
            ],
            [
             0.3,
             "#f1b6da"
            ],
            [
             0.4,
             "#fde0ef"
            ],
            [
             0.5,
             "#f7f7f7"
            ],
            [
             0.6,
             "#e6f5d0"
            ],
            [
             0.7,
             "#b8e186"
            ],
            [
             0.8,
             "#7fbc41"
            ],
            [
             0.9,
             "#4d9221"
            ],
            [
             1,
             "#276419"
            ]
           ],
           "sequential": [
            [
             0,
             "#0d0887"
            ],
            [
             0.1111111111111111,
             "#46039f"
            ],
            [
             0.2222222222222222,
             "#7201a8"
            ],
            [
             0.3333333333333333,
             "#9c179e"
            ],
            [
             0.4444444444444444,
             "#bd3786"
            ],
            [
             0.5555555555555556,
             "#d8576b"
            ],
            [
             0.6666666666666666,
             "#ed7953"
            ],
            [
             0.7777777777777778,
             "#fb9f3a"
            ],
            [
             0.8888888888888888,
             "#fdca26"
            ],
            [
             1,
             "#f0f921"
            ]
           ],
           "sequentialminus": [
            [
             0,
             "#0d0887"
            ],
            [
             0.1111111111111111,
             "#46039f"
            ],
            [
             0.2222222222222222,
             "#7201a8"
            ],
            [
             0.3333333333333333,
             "#9c179e"
            ],
            [
             0.4444444444444444,
             "#bd3786"
            ],
            [
             0.5555555555555556,
             "#d8576b"
            ],
            [
             0.6666666666666666,
             "#ed7953"
            ],
            [
             0.7777777777777778,
             "#fb9f3a"
            ],
            [
             0.8888888888888888,
             "#fdca26"
            ],
            [
             1,
             "#f0f921"
            ]
           ]
          },
          "colorway": [
           "#636efa",
           "#EF553B",
           "#00cc96",
           "#ab63fa",
           "#FFA15A",
           "#19d3f3",
           "#FF6692",
           "#B6E880",
           "#FF97FF",
           "#FECB52"
          ],
          "font": {
           "color": "#2a3f5f"
          },
          "geo": {
           "bgcolor": "white",
           "lakecolor": "white",
           "landcolor": "#E5ECF6",
           "showlakes": true,
           "showland": true,
           "subunitcolor": "white"
          },
          "hoverlabel": {
           "align": "left"
          },
          "hovermode": "closest",
          "mapbox": {
           "style": "light"
          },
          "paper_bgcolor": "white",
          "plot_bgcolor": "#E5ECF6",
          "polar": {
           "angularaxis": {
            "gridcolor": "white",
            "linecolor": "white",
            "ticks": ""
           },
           "bgcolor": "#E5ECF6",
           "radialaxis": {
            "gridcolor": "white",
            "linecolor": "white",
            "ticks": ""
           }
          },
          "scene": {
           "xaxis": {
            "backgroundcolor": "#E5ECF6",
            "gridcolor": "white",
            "gridwidth": 2,
            "linecolor": "white",
            "showbackground": true,
            "ticks": "",
            "zerolinecolor": "white"
           },
           "yaxis": {
            "backgroundcolor": "#E5ECF6",
            "gridcolor": "white",
            "gridwidth": 2,
            "linecolor": "white",
            "showbackground": true,
            "ticks": "",
            "zerolinecolor": "white"
           },
           "zaxis": {
            "backgroundcolor": "#E5ECF6",
            "gridcolor": "white",
            "gridwidth": 2,
            "linecolor": "white",
            "showbackground": true,
            "ticks": "",
            "zerolinecolor": "white"
           }
          },
          "shapedefaults": {
           "line": {
            "color": "#2a3f5f"
           }
          },
          "ternary": {
           "aaxis": {
            "gridcolor": "white",
            "linecolor": "white",
            "ticks": ""
           },
           "baxis": {
            "gridcolor": "white",
            "linecolor": "white",
            "ticks": ""
           },
           "bgcolor": "#E5ECF6",
           "caxis": {
            "gridcolor": "white",
            "linecolor": "white",
            "ticks": ""
           }
          },
          "title": {
           "x": 0.05
          },
          "xaxis": {
           "automargin": true,
           "gridcolor": "white",
           "linecolor": "white",
           "ticks": "",
           "title": {
            "standoff": 15
           },
           "zerolinecolor": "white",
           "zerolinewidth": 2
          },
          "yaxis": {
           "automargin": true,
           "gridcolor": "white",
           "linecolor": "white",
           "ticks": "",
           "title": {
            "standoff": 15
           },
           "zerolinecolor": "white",
           "zerolinewidth": 2
          }
         }
        },
        "title": {
         "text": "daily increase of COVID cases in Georgia, US"
        },
        "xaxis": {
         "linecolor": "#BCCCDC",
         "showgrid": false,
         "showspikes": true,
         "spikecolor": "#999999",
         "spikedash": "dot",
         "spikemode": "across",
         "spikethickness": 2,
         "title": {
          "text": "date"
         }
        },
        "yaxis": {
         "linecolor": "#BCCCDC",
         "title": {
          "text": "# of cases"
         }
        }
       }
      },
      "text/html": [
       "<div>\n",
       "        \n",
       "        \n",
       "            <div id=\"ee43d578-6102-42d5-9abd-458d82026647\" class=\"plotly-graph-div\" style=\"height:525px; width:100%;\"></div>\n",
       "            <script type=\"text/javascript\">\n",
       "                require([\"plotly\"], function(Plotly) {\n",
       "                    window.PLOTLYENV=window.PLOTLYENV || {};\n",
       "                    \n",
       "                if (document.getElementById(\"ee43d578-6102-42d5-9abd-458d82026647\")) {\n",
       "                    Plotly.newPlot(\n",
       "                        'ee43d578-6102-42d5-9abd-458d82026647',\n",
       "                        [{\"marker\": {\"color\": \"#303F9F\"}, \"name\": \"daily increase\", \"type\": \"bar\", \"x\": [\"2020-08-29T00:00:00\", \"2020-08-28T00:00:00\", \"2020-08-27T00:00:00\", \"2020-08-26T00:00:00\", \"2020-08-25T00:00:00\", \"2020-08-24T00:00:00\", \"2020-08-23T00:00:00\", \"2020-08-22T00:00:00\", \"2020-08-21T00:00:00\", \"2020-08-20T00:00:00\", \"2020-08-19T00:00:00\", \"2020-08-18T00:00:00\", \"2020-08-17T00:00:00\", \"2020-08-16T00:00:00\", \"2020-08-15T00:00:00\", \"2020-08-14T00:00:00\", \"2020-08-13T00:00:00\", \"2020-08-12T00:00:00\", \"2020-08-11T00:00:00\", \"2020-08-10T00:00:00\", \"2020-08-09T00:00:00\", \"2020-08-08T00:00:00\", \"2020-08-07T00:00:00\", \"2020-08-06T00:00:00\", \"2020-08-05T00:00:00\", \"2020-08-04T00:00:00\", \"2020-08-03T00:00:00\", \"2020-08-02T00:00:00\", \"2020-08-01T00:00:00\", \"2020-07-31T00:00:00\", \"2020-07-30T00:00:00\", \"2020-07-29T00:00:00\", \"2020-07-28T00:00:00\", \"2020-07-27T00:00:00\", \"2020-07-26T00:00:00\", \"2020-07-25T00:00:00\", \"2020-07-24T00:00:00\", \"2020-07-23T00:00:00\", \"2020-07-22T00:00:00\", \"2020-07-21T00:00:00\", \"2020-07-20T00:00:00\", \"2020-07-19T00:00:00\", \"2020-07-18T00:00:00\", \"2020-07-17T00:00:00\", \"2020-07-16T00:00:00\", \"2020-07-15T00:00:00\", \"2020-07-14T00:00:00\", \"2020-07-13T00:00:00\", \"2020-07-12T00:00:00\", \"2020-07-11T00:00:00\", \"2020-07-10T00:00:00\", \"2020-07-09T00:00:00\", \"2020-07-08T00:00:00\", \"2020-07-07T00:00:00\", \"2020-07-06T00:00:00\", \"2020-07-05T00:00:00\", \"2020-07-04T00:00:00\", \"2020-07-03T00:00:00\", \"2020-07-02T00:00:00\", \"2020-07-01T00:00:00\", \"2020-06-30T00:00:00\", \"2020-06-29T00:00:00\", \"2020-06-28T00:00:00\", \"2020-06-27T00:00:00\", \"2020-06-26T00:00:00\", \"2020-06-25T00:00:00\", \"2020-06-24T00:00:00\", \"2020-06-23T00:00:00\", \"2020-06-22T00:00:00\", \"2020-06-21T00:00:00\", \"2020-06-20T00:00:00\", \"2020-06-19T00:00:00\", \"2020-06-18T00:00:00\", \"2020-06-17T00:00:00\", \"2020-06-16T00:00:00\", \"2020-06-15T00:00:00\", \"2020-06-14T00:00:00\", \"2020-06-13T00:00:00\", \"2020-06-12T00:00:00\", \"2020-06-11T00:00:00\", \"2020-06-10T00:00:00\", \"2020-06-09T00:00:00\", \"2020-06-08T00:00:00\", \"2020-06-07T00:00:00\", \"2020-06-06T00:00:00\", \"2020-06-05T00:00:00\", \"2020-06-04T00:00:00\", \"2020-06-03T00:00:00\", \"2020-06-02T00:00:00\", \"2020-06-01T00:00:00\", \"2020-05-31T00:00:00\", \"2020-05-30T00:00:00\", \"2020-05-29T00:00:00\", \"2020-05-28T00:00:00\", \"2020-05-27T00:00:00\", \"2020-05-26T00:00:00\", \"2020-05-25T00:00:00\", \"2020-05-24T00:00:00\", \"2020-05-23T00:00:00\", \"2020-05-22T00:00:00\", \"2020-05-21T00:00:00\", \"2020-05-20T00:00:00\", \"2020-05-19T00:00:00\", \"2020-05-18T00:00:00\", \"2020-05-17T00:00:00\", \"2020-05-16T00:00:00\", \"2020-05-15T00:00:00\", \"2020-05-14T00:00:00\", \"2020-05-13T00:00:00\", \"2020-05-12T00:00:00\", \"2020-05-11T00:00:00\", \"2020-05-10T00:00:00\", \"2020-05-09T00:00:00\", \"2020-05-08T00:00:00\", \"2020-05-07T00:00:00\", \"2020-05-06T00:00:00\", \"2020-05-05T00:00:00\", \"2020-05-04T00:00:00\", \"2020-05-03T00:00:00\", \"2020-05-02T00:00:00\", \"2020-05-01T00:00:00\", \"2020-04-30T00:00:00\", \"2020-04-29T00:00:00\", \"2020-04-28T00:00:00\", \"2020-04-27T00:00:00\", \"2020-04-26T00:00:00\", \"2020-04-25T00:00:00\", \"2020-04-24T00:00:00\", \"2020-04-23T00:00:00\", \"2020-04-22T00:00:00\", \"2020-04-21T00:00:00\", \"2020-04-20T00:00:00\", \"2020-04-19T00:00:00\", \"2020-04-18T00:00:00\", \"2020-04-17T00:00:00\", \"2020-04-16T00:00:00\", \"2020-04-15T00:00:00\", \"2020-04-14T00:00:00\", \"2020-04-13T00:00:00\", \"2020-04-12T00:00:00\", \"2020-04-11T00:00:00\", \"2020-04-10T00:00:00\", \"2020-04-09T00:00:00\", \"2020-04-08T00:00:00\", \"2020-04-07T00:00:00\", \"2020-04-06T00:00:00\", \"2020-04-05T00:00:00\", \"2020-04-04T00:00:00\", \"2020-04-03T00:00:00\", \"2020-04-02T00:00:00\", \"2020-04-01T00:00:00\", \"2020-03-31T00:00:00\", \"2020-03-30T00:00:00\", \"2020-03-29T00:00:00\", \"2020-03-28T00:00:00\", \"2020-03-27T00:00:00\", \"2020-03-26T00:00:00\", \"2020-03-25T00:00:00\", \"2020-03-24T00:00:00\", \"2020-03-23T00:00:00\", \"2020-03-22T00:00:00\", \"2020-03-21T00:00:00\", \"2020-03-20T00:00:00\", \"2020-03-19T00:00:00\", \"2020-03-18T00:00:00\", \"2020-03-17T00:00:00\", \"2020-03-16T00:00:00\", \"2020-03-15T00:00:00\", \"2020-03-14T00:00:00\", \"2020-03-13T00:00:00\", \"2020-03-12T00:00:00\", \"2020-03-11T00:00:00\", \"2020-03-10T00:00:00\", \"2020-03-09T00:00:00\", \"2020-03-08T00:00:00\", \"2020-03-07T00:00:00\", \"2020-03-06T00:00:00\", \"2020-03-05T00:00:00\", \"2020-03-04T00:00:00\"], \"y\": [2386.0, 2298.0, 2484.0, 2236.0, 2101.0, 2304.0, 1727.0, 2592.0, 2889.0, 2759.0, 2305.0, 2816.0, 1831.0, 1862.0, 3273.0, 3227.0, 2515.0, 3565.0, 3563.0, 2429.0, 3169.0, 4423.0, 4109.0, 3182.0, 3765.0, 2513.0, 2258.0, 3165.0, 3660.0, 4066.0, 3963.0, 3271.0, 4209.0, 2890.0, 2765.0, 3787.0, 4813.0, 4286.0, 3314.0, 3413.0, 2452.0, 3251.0, 4689.0, 3908.0, 3441.0, 3871.0, 3394.0, 3643.0, 2525.0, 3190.0, 4484.0, 2837.0, 3420.0, 3406.0, 1548.0, 2197.0, 2826.0, 2784.0, 3472.0, 2946.0, 1874.0, 2207.0, 2225.0, 1990.0, 1900.0, 1714.0, 1703.0, 1750.0, 1227.0, 892.0, 1800.0, 1097.0, 882.0, 952.0, 664.0, 733.0, 880.0, 1018.0, 810.0, 993.0, 731.0, 752.0, 599.0, 589.0, 688.0, 774.0, 953.0, 687.0, 589.0, 632.0, 700.0, 616.0, 600.0, 649.0, 691.0, 386.0, 506.0, 706.0, 914.0, 813.0, 758.0, 926.0, 640.0, 380.0, 554.0, 466.0, 823.0, 526.0, 697.0, 708.0, 486.0, 909.0, 426.0, 667.0, 743.0, 985.0, 343.0, 766.0, 296.0, 1036.0, 1115.0, 532.0, 1008.0, 702.0, 512.0, 706.0, 548.0, 635.0, 772.0, 859.0, 934.0, 646.0, 632.0, 475.0, 1525.0, 682.0, 764.0, 908.0, 863.0, 293.0, 676.0, 917.0, 665.0, 1083.0, 1504.0, 667.0, 487.0, 329.0, 483.0, 710.0, 709.0, 1120.0, 158.0, 285.0, 365.0, 476.0, 278.0, 221.0, 254.0, 172.0, 93.0, 87.0, 133.0, 90.0, 51.0, 25.0, 22.0, 33.0, 24.0, 11.0, 9.0, 5.0, 5.0, 5.0, 1.0, 4.0, 0.0, 0.0, 2.0]}, {\"fill\": \"tozeroy\", \"fillcolor\": \"rgba(245, 124, 0, 0.25)\", \"line\": {\"color\": \"#F57C00\"}, \"name\": \"7-day moving average\", \"type\": \"scatter\", \"x\": [\"2020-08-29T00:00:00\", \"2020-08-28T00:00:00\", \"2020-08-27T00:00:00\", \"2020-08-26T00:00:00\", \"2020-08-25T00:00:00\", \"2020-08-24T00:00:00\", \"2020-08-23T00:00:00\", \"2020-08-22T00:00:00\", \"2020-08-21T00:00:00\", \"2020-08-20T00:00:00\", \"2020-08-19T00:00:00\", \"2020-08-18T00:00:00\", \"2020-08-17T00:00:00\", \"2020-08-16T00:00:00\", \"2020-08-15T00:00:00\", \"2020-08-14T00:00:00\", \"2020-08-13T00:00:00\", \"2020-08-12T00:00:00\", \"2020-08-11T00:00:00\", \"2020-08-10T00:00:00\", \"2020-08-09T00:00:00\", \"2020-08-08T00:00:00\", \"2020-08-07T00:00:00\", \"2020-08-06T00:00:00\", \"2020-08-05T00:00:00\", \"2020-08-04T00:00:00\", \"2020-08-03T00:00:00\", \"2020-08-02T00:00:00\", \"2020-08-01T00:00:00\", \"2020-07-31T00:00:00\", \"2020-07-30T00:00:00\", \"2020-07-29T00:00:00\", \"2020-07-28T00:00:00\", \"2020-07-27T00:00:00\", \"2020-07-26T00:00:00\", \"2020-07-25T00:00:00\", \"2020-07-24T00:00:00\", \"2020-07-23T00:00:00\", \"2020-07-22T00:00:00\", \"2020-07-21T00:00:00\", \"2020-07-20T00:00:00\", \"2020-07-19T00:00:00\", \"2020-07-18T00:00:00\", \"2020-07-17T00:00:00\", \"2020-07-16T00:00:00\", \"2020-07-15T00:00:00\", \"2020-07-14T00:00:00\", \"2020-07-13T00:00:00\", \"2020-07-12T00:00:00\", \"2020-07-11T00:00:00\", \"2020-07-10T00:00:00\", \"2020-07-09T00:00:00\", \"2020-07-08T00:00:00\", \"2020-07-07T00:00:00\", \"2020-07-06T00:00:00\", \"2020-07-05T00:00:00\", \"2020-07-04T00:00:00\", \"2020-07-03T00:00:00\", \"2020-07-02T00:00:00\", \"2020-07-01T00:00:00\", \"2020-06-30T00:00:00\", \"2020-06-29T00:00:00\", \"2020-06-28T00:00:00\", \"2020-06-27T00:00:00\", \"2020-06-26T00:00:00\", \"2020-06-25T00:00:00\", \"2020-06-24T00:00:00\", \"2020-06-23T00:00:00\", \"2020-06-22T00:00:00\", \"2020-06-21T00:00:00\", \"2020-06-20T00:00:00\", \"2020-06-19T00:00:00\", \"2020-06-18T00:00:00\", \"2020-06-17T00:00:00\", \"2020-06-16T00:00:00\", \"2020-06-15T00:00:00\", \"2020-06-14T00:00:00\", \"2020-06-13T00:00:00\", \"2020-06-12T00:00:00\", \"2020-06-11T00:00:00\", \"2020-06-10T00:00:00\", \"2020-06-09T00:00:00\", \"2020-06-08T00:00:00\", \"2020-06-07T00:00:00\", \"2020-06-06T00:00:00\", \"2020-06-05T00:00:00\", \"2020-06-04T00:00:00\", \"2020-06-03T00:00:00\", \"2020-06-02T00:00:00\", \"2020-06-01T00:00:00\", \"2020-05-31T00:00:00\", \"2020-05-30T00:00:00\", \"2020-05-29T00:00:00\", \"2020-05-28T00:00:00\", \"2020-05-27T00:00:00\", \"2020-05-26T00:00:00\", \"2020-05-25T00:00:00\", \"2020-05-24T00:00:00\", \"2020-05-23T00:00:00\", \"2020-05-22T00:00:00\", \"2020-05-21T00:00:00\", \"2020-05-20T00:00:00\", \"2020-05-19T00:00:00\", \"2020-05-18T00:00:00\", \"2020-05-17T00:00:00\", \"2020-05-16T00:00:00\", \"2020-05-15T00:00:00\", \"2020-05-14T00:00:00\", \"2020-05-13T00:00:00\", \"2020-05-12T00:00:00\", \"2020-05-11T00:00:00\", \"2020-05-10T00:00:00\", \"2020-05-09T00:00:00\", \"2020-05-08T00:00:00\", \"2020-05-07T00:00:00\", \"2020-05-06T00:00:00\", \"2020-05-05T00:00:00\", \"2020-05-04T00:00:00\", \"2020-05-03T00:00:00\", \"2020-05-02T00:00:00\", \"2020-05-01T00:00:00\", \"2020-04-30T00:00:00\", \"2020-04-29T00:00:00\", \"2020-04-28T00:00:00\", \"2020-04-27T00:00:00\", \"2020-04-26T00:00:00\", \"2020-04-25T00:00:00\", \"2020-04-24T00:00:00\", \"2020-04-23T00:00:00\", \"2020-04-22T00:00:00\", \"2020-04-21T00:00:00\", \"2020-04-20T00:00:00\", \"2020-04-19T00:00:00\", \"2020-04-18T00:00:00\", \"2020-04-17T00:00:00\", \"2020-04-16T00:00:00\", \"2020-04-15T00:00:00\", \"2020-04-14T00:00:00\", \"2020-04-13T00:00:00\", \"2020-04-12T00:00:00\", \"2020-04-11T00:00:00\", \"2020-04-10T00:00:00\", \"2020-04-09T00:00:00\", \"2020-04-08T00:00:00\", \"2020-04-07T00:00:00\", \"2020-04-06T00:00:00\", \"2020-04-05T00:00:00\", \"2020-04-04T00:00:00\", \"2020-04-03T00:00:00\", \"2020-04-02T00:00:00\", \"2020-04-01T00:00:00\", \"2020-03-31T00:00:00\", \"2020-03-30T00:00:00\", \"2020-03-29T00:00:00\", \"2020-03-28T00:00:00\", \"2020-03-27T00:00:00\", \"2020-03-26T00:00:00\", \"2020-03-25T00:00:00\", \"2020-03-24T00:00:00\", \"2020-03-23T00:00:00\", \"2020-03-22T00:00:00\", \"2020-03-21T00:00:00\", \"2020-03-20T00:00:00\", \"2020-03-19T00:00:00\", \"2020-03-18T00:00:00\", \"2020-03-17T00:00:00\", \"2020-03-16T00:00:00\", \"2020-03-15T00:00:00\", \"2020-03-14T00:00:00\", \"2020-03-13T00:00:00\", \"2020-03-12T00:00:00\", \"2020-03-11T00:00:00\", \"2020-03-10T00:00:00\", \"2020-03-09T00:00:00\", \"2020-03-08T00:00:00\", \"2020-03-07T00:00:00\", \"2020-03-06T00:00:00\", \"2020-03-05T00:00:00\", \"2020-03-04T00:00:00\"], \"y\": [2219.4, 2248.9, 2333.3, 2372.6, 2382.4, 2484.6, 2417.0, 2436.3, 2533.6, 2581.9, 2547.0, 2727.0, 2833.7, 2919.1, 3105.9, 3270.1, 3396.1, 3491.4, 3520.0, 3370.0, 3345.6, 3345.0, 3236.0, 3229.9, 3341.4, 3270.9, 3513.1, 3603.4, 3546.3, 3564.4, 3671.1, 3717.3, 3723.4, 3609.7, 3547.1, 3616.6, 3745.4, 3616.1, 3495.4, 3575.0, 3572.3, 3742.4, 3638.7, 3424.6, 3506.9, 3420.6, 3356.1, 3357.9, 3058.6, 3011.7, 2959.7, 2716.9, 2807.6, 2739.9, 2521.0, 2615.1, 2619.1, 2499.7, 2373.4, 2122.3, 1944.7, 1927.0, 1787.0, 1596.6, 1569.4, 1454.7, 1335.9, 1228.6, 1073.4, 1002.9, 1001.1, 889.4, 848.4, 864.3, 832.7, 845.3, 826.1, 784.6, 737.4, 732.3, 726.6, 720.3, 697.0, 701.7, 717.6, 707.3, 682.4, 639.0, 639.6, 610.6, 592.6, 593.4, 636.0, 666.4, 682.0, 715.6, 751.9, 733.9, 712.1, 648.1, 649.6, 616.4, 583.7, 593.4, 608.6, 659.3, 653.6, 631.3, 662.3, 703.4, 651.3, 691.3, 603.7, 690.9, 754.9, 724.7, 728.0, 779.3, 743.0, 801.6, 731.9, 663.3, 697.6, 676.3, 709.4, 728.6, 718.0, 707.6, 834.7, 821.9, 808.3, 804.6, 835.6, 787.1, 815.9, 729.0, 726.6, 772.1, 857.3, 829.3, 857.0, 807.4, 745.4, 751.9, 698.4, 643.6, 570.9, 542.0, 547.1, 546.1, 484.4, 414.7, 291.0, 293.0, 265.6, 225.9, 176.9, 150.0, 125.7, 93.0, 71.6, 63.0, 54.0, 36.6, 25.0, 18.4, 15.6, 13.1, 8.6, 5.7, 4.1, 2.9, 2.4, 2.0, 1.4, 1.5, 0.7, 1.0, 2.0]}, {\"hovertemplate\": \"<b>Apr 10, 2020:</b><br>8 days after shelter-in-place order<extra></extra>\", \"line\": {\"color\": \"#B0BEC5\", \"dash\": \"dashdot\", \"width\": 2}, \"mode\": \"lines\", \"opacity\": 0.7, \"showlegend\": false, \"type\": \"scatter\", \"x\": [\"2020-04-10\", \"2020-04-10\"], \"y\": [0, 5500]}, {\"hovertemplate\": \"<b>May 02, 2020:</b><br>8 days after businesses are allowed to reopen<extra></extra>\", \"line\": {\"color\": \"#B0BEC5\", \"dash\": \"dashdot\", \"width\": 2}, \"mode\": \"lines\", \"opacity\": 0.7, \"showlegend\": false, \"type\": \"scatter\", \"x\": [\"2020-05-02\", \"2020-05-02\"], \"y\": [0, 5500]}, {\"hovertemplate\": \"<b>Jun 20, 2020:</b><br>8 days after kemp loosens restrictions on gatherings at<br>restaurants, theaters, summer camps, conventions, & concerts<extra></extra>\", \"line\": {\"color\": \"#B0BEC5\", \"dash\": \"dashdot\", \"width\": 2}, \"mode\": \"lines\", \"opacity\": 0.7, \"showlegend\": false, \"type\": \"scatter\", \"x\": [\"2020-06-20\", \"2020-06-20\"], \"y\": [0, 5500]}, {\"hovertemplate\": \"<b>Jul 12, 2020:</b><br>8 days after july 4th<extra></extra>\", \"line\": {\"color\": \"#B0BEC5\", \"dash\": \"dashdot\", \"width\": 2}, \"mode\": \"lines\", \"opacity\": 0.7, \"showlegend\": false, \"type\": \"scatter\", \"x\": [\"2020-07-12\", \"2020-07-12\"], \"y\": [0, 5500]}, {\"hovertemplate\": \"<b>Jul 23, 2020:</b><br>8 days after kemp overrules city mask mandates<extra></extra>\", \"line\": {\"color\": \"#B0BEC5\", \"dash\": \"dashdot\", \"width\": 2}, \"mode\": \"lines\", \"opacity\": 0.7, \"showlegend\": false, \"type\": \"scatter\", \"x\": [\"2020-07-23\", \"2020-07-23\"], \"y\": [0, 5500]}, {\"hovertemplate\": \"<b>Aug 15, 2020:</b><br>kemp allows mask mandates<extra></extra>\", \"line\": {\"color\": \"#B0BEC5\", \"dash\": \"dashdot\", \"width\": 2}, \"mode\": \"lines\", \"opacity\": 0.7, \"showlegend\": false, \"type\": \"scatter\", \"x\": [\"2020-08-15\", \"2020-08-15\"], \"y\": [0, 5500]}],\n",
       "                        {\"hoverdistance\": 15, \"hovermode\": \"x\", \"plot_bgcolor\": \"whitesmoke\", \"spikedistance\": 5000, \"template\": {\"data\": {\"bar\": [{\"error_x\": {\"color\": \"#2a3f5f\"}, \"error_y\": {\"color\": \"#2a3f5f\"}, \"marker\": {\"line\": {\"color\": \"#E5ECF6\", \"width\": 0.5}}, \"type\": \"bar\"}], \"barpolar\": [{\"marker\": {\"line\": {\"color\": \"#E5ECF6\", \"width\": 0.5}}, \"type\": \"barpolar\"}], \"carpet\": [{\"aaxis\": {\"endlinecolor\": \"#2a3f5f\", \"gridcolor\": \"white\", \"linecolor\": \"white\", \"minorgridcolor\": \"white\", \"startlinecolor\": \"#2a3f5f\"}, \"baxis\": {\"endlinecolor\": \"#2a3f5f\", \"gridcolor\": \"white\", \"linecolor\": \"white\", \"minorgridcolor\": \"white\", \"startlinecolor\": \"#2a3f5f\"}, \"type\": \"carpet\"}], \"choropleth\": [{\"colorbar\": {\"outlinewidth\": 0, \"ticks\": \"\"}, \"type\": \"choropleth\"}], \"contour\": [{\"colorbar\": {\"outlinewidth\": 0, \"ticks\": \"\"}, \"colorscale\": [[0.0, \"#0d0887\"], [0.1111111111111111, \"#46039f\"], [0.2222222222222222, \"#7201a8\"], [0.3333333333333333, \"#9c179e\"], [0.4444444444444444, \"#bd3786\"], [0.5555555555555556, \"#d8576b\"], [0.6666666666666666, \"#ed7953\"], [0.7777777777777778, \"#fb9f3a\"], [0.8888888888888888, \"#fdca26\"], [1.0, \"#f0f921\"]], \"type\": \"contour\"}], \"contourcarpet\": [{\"colorbar\": {\"outlinewidth\": 0, \"ticks\": \"\"}, \"type\": \"contourcarpet\"}], \"heatmap\": [{\"colorbar\": {\"outlinewidth\": 0, \"ticks\": \"\"}, \"colorscale\": [[0.0, \"#0d0887\"], [0.1111111111111111, \"#46039f\"], [0.2222222222222222, \"#7201a8\"], [0.3333333333333333, \"#9c179e\"], [0.4444444444444444, \"#bd3786\"], [0.5555555555555556, \"#d8576b\"], [0.6666666666666666, \"#ed7953\"], [0.7777777777777778, \"#fb9f3a\"], [0.8888888888888888, \"#fdca26\"], [1.0, \"#f0f921\"]], \"type\": \"heatmap\"}], \"heatmapgl\": [{\"colorbar\": {\"outlinewidth\": 0, \"ticks\": \"\"}, \"colorscale\": [[0.0, \"#0d0887\"], [0.1111111111111111, \"#46039f\"], [0.2222222222222222, \"#7201a8\"], [0.3333333333333333, \"#9c179e\"], [0.4444444444444444, \"#bd3786\"], [0.5555555555555556, \"#d8576b\"], [0.6666666666666666, \"#ed7953\"], [0.7777777777777778, \"#fb9f3a\"], [0.8888888888888888, \"#fdca26\"], [1.0, \"#f0f921\"]], \"type\": \"heatmapgl\"}], \"histogram\": [{\"marker\": {\"colorbar\": {\"outlinewidth\": 0, \"ticks\": \"\"}}, \"type\": \"histogram\"}], \"histogram2d\": [{\"colorbar\": {\"outlinewidth\": 0, \"ticks\": \"\"}, \"colorscale\": [[0.0, \"#0d0887\"], [0.1111111111111111, \"#46039f\"], [0.2222222222222222, \"#7201a8\"], [0.3333333333333333, \"#9c179e\"], [0.4444444444444444, \"#bd3786\"], [0.5555555555555556, \"#d8576b\"], [0.6666666666666666, \"#ed7953\"], [0.7777777777777778, \"#fb9f3a\"], [0.8888888888888888, \"#fdca26\"], [1.0, \"#f0f921\"]], \"type\": \"histogram2d\"}], \"histogram2dcontour\": [{\"colorbar\": {\"outlinewidth\": 0, \"ticks\": \"\"}, \"colorscale\": [[0.0, \"#0d0887\"], [0.1111111111111111, \"#46039f\"], [0.2222222222222222, \"#7201a8\"], [0.3333333333333333, \"#9c179e\"], [0.4444444444444444, \"#bd3786\"], [0.5555555555555556, \"#d8576b\"], [0.6666666666666666, \"#ed7953\"], [0.7777777777777778, \"#fb9f3a\"], [0.8888888888888888, \"#fdca26\"], [1.0, \"#f0f921\"]], \"type\": \"histogram2dcontour\"}], \"mesh3d\": [{\"colorbar\": {\"outlinewidth\": 0, \"ticks\": \"\"}, \"type\": \"mesh3d\"}], \"parcoords\": [{\"line\": {\"colorbar\": {\"outlinewidth\": 0, \"ticks\": \"\"}}, \"type\": \"parcoords\"}], \"pie\": [{\"automargin\": true, \"type\": \"pie\"}], \"scatter\": [{\"marker\": {\"colorbar\": {\"outlinewidth\": 0, \"ticks\": \"\"}}, \"type\": \"scatter\"}], \"scatter3d\": [{\"line\": {\"colorbar\": {\"outlinewidth\": 0, \"ticks\": \"\"}}, \"marker\": {\"colorbar\": {\"outlinewidth\": 0, \"ticks\": \"\"}}, \"type\": \"scatter3d\"}], \"scattercarpet\": [{\"marker\": {\"colorbar\": {\"outlinewidth\": 0, \"ticks\": \"\"}}, \"type\": \"scattercarpet\"}], \"scattergeo\": [{\"marker\": {\"colorbar\": {\"outlinewidth\": 0, \"ticks\": \"\"}}, \"type\": \"scattergeo\"}], \"scattergl\": [{\"marker\": {\"colorbar\": {\"outlinewidth\": 0, \"ticks\": \"\"}}, \"type\": \"scattergl\"}], \"scattermapbox\": [{\"marker\": {\"colorbar\": {\"outlinewidth\": 0, \"ticks\": \"\"}}, \"type\": \"scattermapbox\"}], \"scatterpolar\": [{\"marker\": {\"colorbar\": {\"outlinewidth\": 0, \"ticks\": \"\"}}, \"type\": \"scatterpolar\"}], \"scatterpolargl\": [{\"marker\": {\"colorbar\": {\"outlinewidth\": 0, \"ticks\": \"\"}}, \"type\": \"scatterpolargl\"}], \"scatterternary\": [{\"marker\": {\"colorbar\": {\"outlinewidth\": 0, \"ticks\": \"\"}}, \"type\": \"scatterternary\"}], \"surface\": [{\"colorbar\": {\"outlinewidth\": 0, \"ticks\": \"\"}, \"colorscale\": [[0.0, \"#0d0887\"], [0.1111111111111111, \"#46039f\"], [0.2222222222222222, \"#7201a8\"], [0.3333333333333333, \"#9c179e\"], [0.4444444444444444, \"#bd3786\"], [0.5555555555555556, \"#d8576b\"], [0.6666666666666666, \"#ed7953\"], [0.7777777777777778, \"#fb9f3a\"], [0.8888888888888888, \"#fdca26\"], [1.0, \"#f0f921\"]], \"type\": \"surface\"}], \"table\": [{\"cells\": {\"fill\": {\"color\": \"#EBF0F8\"}, \"line\": {\"color\": \"white\"}}, \"header\": {\"fill\": {\"color\": \"#C8D4E3\"}, \"line\": {\"color\": \"white\"}}, \"type\": \"table\"}]}, \"layout\": {\"annotationdefaults\": {\"arrowcolor\": \"#2a3f5f\", \"arrowhead\": 0, \"arrowwidth\": 1}, \"coloraxis\": {\"colorbar\": {\"outlinewidth\": 0, \"ticks\": \"\"}}, \"colorscale\": {\"diverging\": [[0, \"#8e0152\"], [0.1, \"#c51b7d\"], [0.2, \"#de77ae\"], [0.3, \"#f1b6da\"], [0.4, \"#fde0ef\"], [0.5, \"#f7f7f7\"], [0.6, \"#e6f5d0\"], [0.7, \"#b8e186\"], [0.8, \"#7fbc41\"], [0.9, \"#4d9221\"], [1, \"#276419\"]], \"sequential\": [[0.0, \"#0d0887\"], [0.1111111111111111, \"#46039f\"], [0.2222222222222222, \"#7201a8\"], [0.3333333333333333, \"#9c179e\"], [0.4444444444444444, \"#bd3786\"], [0.5555555555555556, \"#d8576b\"], [0.6666666666666666, \"#ed7953\"], [0.7777777777777778, \"#fb9f3a\"], [0.8888888888888888, \"#fdca26\"], [1.0, \"#f0f921\"]], \"sequentialminus\": [[0.0, \"#0d0887\"], [0.1111111111111111, \"#46039f\"], [0.2222222222222222, \"#7201a8\"], [0.3333333333333333, \"#9c179e\"], [0.4444444444444444, \"#bd3786\"], [0.5555555555555556, \"#d8576b\"], [0.6666666666666666, \"#ed7953\"], [0.7777777777777778, \"#fb9f3a\"], [0.8888888888888888, \"#fdca26\"], [1.0, \"#f0f921\"]]}, \"colorway\": [\"#636efa\", \"#EF553B\", \"#00cc96\", \"#ab63fa\", \"#FFA15A\", \"#19d3f3\", \"#FF6692\", \"#B6E880\", \"#FF97FF\", \"#FECB52\"], \"font\": {\"color\": \"#2a3f5f\"}, \"geo\": {\"bgcolor\": \"white\", \"lakecolor\": \"white\", \"landcolor\": \"#E5ECF6\", \"showlakes\": true, \"showland\": true, \"subunitcolor\": \"white\"}, \"hoverlabel\": {\"align\": \"left\"}, \"hovermode\": \"closest\", \"mapbox\": {\"style\": \"light\"}, \"paper_bgcolor\": \"white\", \"plot_bgcolor\": \"#E5ECF6\", \"polar\": {\"angularaxis\": {\"gridcolor\": \"white\", \"linecolor\": \"white\", \"ticks\": \"\"}, \"bgcolor\": \"#E5ECF6\", \"radialaxis\": {\"gridcolor\": \"white\", \"linecolor\": \"white\", \"ticks\": \"\"}}, \"scene\": {\"xaxis\": {\"backgroundcolor\": \"#E5ECF6\", \"gridcolor\": \"white\", \"gridwidth\": 2, \"linecolor\": \"white\", \"showbackground\": true, \"ticks\": \"\", \"zerolinecolor\": \"white\"}, \"yaxis\": {\"backgroundcolor\": \"#E5ECF6\", \"gridcolor\": \"white\", \"gridwidth\": 2, \"linecolor\": \"white\", \"showbackground\": true, \"ticks\": \"\", \"zerolinecolor\": \"white\"}, \"zaxis\": {\"backgroundcolor\": \"#E5ECF6\", \"gridcolor\": \"white\", \"gridwidth\": 2, \"linecolor\": \"white\", \"showbackground\": true, \"ticks\": \"\", \"zerolinecolor\": \"white\"}}, \"shapedefaults\": {\"line\": {\"color\": \"#2a3f5f\"}}, \"ternary\": {\"aaxis\": {\"gridcolor\": \"white\", \"linecolor\": \"white\", \"ticks\": \"\"}, \"baxis\": {\"gridcolor\": \"white\", \"linecolor\": \"white\", \"ticks\": \"\"}, \"bgcolor\": \"#E5ECF6\", \"caxis\": {\"gridcolor\": \"white\", \"linecolor\": \"white\", \"ticks\": \"\"}}, \"title\": {\"x\": 0.05}, \"xaxis\": {\"automargin\": true, \"gridcolor\": \"white\", \"linecolor\": \"white\", \"ticks\": \"\", \"title\": {\"standoff\": 15}, \"zerolinecolor\": \"white\", \"zerolinewidth\": 2}, \"yaxis\": {\"automargin\": true, \"gridcolor\": \"white\", \"linecolor\": \"white\", \"ticks\": \"\", \"title\": {\"standoff\": 15}, \"zerolinecolor\": \"white\", \"zerolinewidth\": 2}}}, \"title\": {\"text\": \"daily increase of COVID cases in Georgia, US\"}, \"xaxis\": {\"linecolor\": \"#BCCCDC\", \"showgrid\": false, \"showspikes\": true, \"spikecolor\": \"#999999\", \"spikedash\": \"dot\", \"spikemode\": \"across\", \"spikethickness\": 2, \"title\": {\"text\": \"date\"}}, \"yaxis\": {\"linecolor\": \"#BCCCDC\", \"title\": {\"text\": \"# of cases\"}}},\n",
       "                        {\"responsive\": true}\n",
       "                    ).then(function(){\n",
       "                            \n",
       "var gd = document.getElementById('ee43d578-6102-42d5-9abd-458d82026647');\n",
       "var x = new MutationObserver(function (mutations, observer) {{\n",
       "        var display = window.getComputedStyle(gd).display;\n",
       "        if (!display || display === 'none') {{\n",
       "            console.log([gd, 'removed!']);\n",
       "            Plotly.purge(gd);\n",
       "            observer.disconnect();\n",
       "        }}\n",
       "}});\n",
       "\n",
       "// Listen for the removal of the full notebook cells\n",
       "var notebookContainer = gd.closest('#notebook-container');\n",
       "if (notebookContainer) {{\n",
       "    x.observe(notebookContainer, {childList: true});\n",
       "}}\n",
       "\n",
       "// Listen for the clearing of the current output cell\n",
       "var outputEl = gd.closest('.output');\n",
       "if (outputEl) {{\n",
       "    x.observe(outputEl, {childList: true});\n",
       "}}\n",
       "\n",
       "                        })\n",
       "                };\n",
       "                });\n",
       "            </script>\n",
       "        </div>"
      ]
     },
     "metadata": {},
     "output_type": "display_data"
    }
   ],
   "source": [
    "# sources:\n",
    "# https://gov.georgia.gov/document/2020-executive-order/03232001/download\n",
    "# https://gov.georgia.gov/document/2020-proclamation/executive-order-04202001-handout/download\n",
    "# https://gov.georgia.gov/document/2020-executive-order/06122001/download\n",
    "# july 4th\n",
    "# https://gov.georgia.gov/document/2020-executive-order/07152001/download\n",
    "# https://gov.georgia.gov/document/2020-executive-order/08152001/download\n",
    "\n",
    "dates = {'2020-04-10':'8 days after shelter-in-place order',\n",
    "         '2020-05-02':'8 days after businesses are allowed to reopen',\n",
    "         '2020-06-20':'8 days after kemp loosens restrictions on gatherings at<br>restaurants, theaters, summer camps, conventions, & concerts',\n",
    "         '2020-07-12':'8 days after july 4th',\n",
    "         '2020-07-23':'8 days after kemp overrules city mask mandates',\n",
    "         '2020-08-15':'kemp allows mask mandates'}\n",
    "\n",
    "for key, val in dates.items():\n",
    "    new_date = dt.datetime.strptime (key, '%Y-%m-%d').strftime ('%b %d, %Y')\n",
    "    fig.add_trace (\n",
    "        go.Scatter (x = [key, key],\n",
    "                    y = [0, 5500],\n",
    "                    opacity = 0.7,\n",
    "                    mode=\"lines\",\n",
    "                    line = dict (color = '#B0BEC5',\n",
    "                                 width = 2,\n",
    "                                 dash = 'dashdot'),\n",
    "                    hovertemplate = f\"<b>{new_date}:</b><br>{val}<extra></extra>\",\n",
    "                    showlegend = False\n",
    "                    ))\n",
    "\n",
    "\n",
    "fig.show()"
   ]
  }
 ],
 "metadata": {
  "kernelspec": {
   "display_name": "PythonData",
   "language": "python",
   "name": "pythondata"
  },
  "language_info": {
   "codemirror_mode": {
    "name": "ipython",
    "version": 3
   },
   "file_extension": ".py",
   "mimetype": "text/x-python",
   "name": "python",
   "nbconvert_exporter": "python",
   "pygments_lexer": "ipython3",
   "version": "3.6.10"
  }
 },
 "nbformat": 4,
 "nbformat_minor": 4
}
